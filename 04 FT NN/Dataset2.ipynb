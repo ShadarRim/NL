{
  "metadata": {
    "kernelspec": {
      "language": "python",
      "display_name": "Python 3",
      "name": "python3"
    },
    "language_info": {
      "name": "python",
      "version": "3.7.12",
      "mimetype": "text/x-python",
      "codemirror_mode": {
        "name": "ipython",
        "version": 3
      },
      "pygments_lexer": "ipython3",
      "nbconvert_exporter": "python",
      "file_extension": ".py"
    },
    "colab": {
      "provenance": []
    }
  },
  "nbformat_minor": 0,
  "nbformat": 4,
  "cells": [
    {
      "cell_type": "markdown",
      "source": [
        "# Comparison of different transfer learning strategies\n"
      ],
      "metadata": {
        "id": "hbYilBuoYfNZ"
      }
    },
    {
      "cell_type": "code",
      "source": [
        "import matplotlib.pyplot as plt\n",
        "import numpy as np\n",
        "import os\n",
        "import time\n",
        "\n",
        "import torch\n",
        "import torch.optim as optim\n",
        "from torch import nn\n",
        "\n",
        "import torchvision as tv\n",
        "import torchvision.models as models\n",
        "from torchvision import transforms, datasets\n",
        "\n",
        "import warnings\n",
        "warnings.filterwarnings('ignore')"
      ],
      "metadata": {
        "execution": {
          "iopub.status.busy": "2023-05-01T12:30:35.060897Z",
          "iopub.execute_input": "2023-05-01T12:30:35.061334Z",
          "iopub.status.idle": "2023-05-01T12:30:35.068370Z",
          "shell.execute_reply.started": "2023-05-01T12:30:35.061298Z",
          "shell.execute_reply": "2023-05-01T12:30:35.067095Z"
        },
        "trusted": true,
        "id": "3LIwQj61YfNc"
      },
      "execution_count": null,
      "outputs": []
    },
    {
      "cell_type": "code",
      "source": [
        "def evaluate_accuracy(data_iter, net):\n",
        "    acc_sum, n = 0, 0\n",
        "    net.eval()\n",
        "    for X, y in data_iter:\n",
        "        X, y = X.to(device), y.to(device)\n",
        "        acc_sum += (net(X).argmax(axis=1) == y).sum()\n",
        "        n += y.shape[0]\n",
        "    return acc_sum.item() / n"
      ],
      "metadata": {
        "execution": {
          "iopub.status.busy": "2023-05-01T12:30:35.074473Z",
          "iopub.execute_input": "2023-05-01T12:30:35.075328Z",
          "iopub.status.idle": "2023-05-01T12:30:35.082339Z",
          "shell.execute_reply.started": "2023-05-01T12:30:35.075297Z",
          "shell.execute_reply": "2023-05-01T12:30:35.080696Z"
        },
        "trusted": true,
        "id": "oUN9ZjKsYfNd"
      },
      "execution_count": null,
      "outputs": []
    },
    {
      "cell_type": "code",
      "source": [
        "def train(net, train_iter, test_iter, trainer, num_epochs):\n",
        "    net.to(device)\n",
        "    loss = nn.CrossEntropyLoss(reduction='sum')\n",
        "    net.train()\n",
        "\n",
        "    loss_hist = []\n",
        "\n",
        "    for epoch in range(num_epochs):\n",
        "        train_l_sum, train_acc_sum, n, start = 0.0, 0.0, 0, time.time()\n",
        "        \n",
        "        for i, (X, y) in enumerate(train_iter):\n",
        "            X, y = X.to(device), y.to(device)\n",
        "            trainer.zero_grad()\n",
        "\n",
        "            y_hat = net(X)\n",
        "            l = loss(y_hat, y)\n",
        "            l.backward()\n",
        "            trainer.step()\n",
        "            train_l_sum += l.item()\n",
        "            train_acc_sum += (y_hat.argmax(axis=1) == y).sum().item()\n",
        "            n += y.shape[0]\n",
        "\n",
        "            #if i % 2 == 0:\n",
        "            #  print(f\"Step {i}. time since epoch: {time.time() -  start:.3f}. \" \n",
        "            #       f\"Train acc: {train_acc_sum / n:.3f}. Train Loss: {train_l_sum / n:.3f}\")\n",
        "        test_acc = evaluate_accuracy(test_iter, net.to(device))\n",
        "        print('-' * 20)\n",
        "        print(f'epoch {epoch + 1}, loss {train_l_sum / n:.4f}, train acc {train_acc_sum / n:.3f}'\n",
        "              f', test acc {test_acc:.3f}, time {time.time() - start:.1f} sec')\n",
        "        \n",
        "        loss_hist.append(train_l_sum)\n",
        "    \n",
        "    return loss_hist"
      ],
      "metadata": {
        "execution": {
          "iopub.status.busy": "2023-05-01T12:30:35.085907Z",
          "iopub.execute_input": "2023-05-01T12:30:35.086529Z",
          "iopub.status.idle": "2023-05-01T12:30:35.096524Z",
          "shell.execute_reply.started": "2023-05-01T12:30:35.086501Z",
          "shell.execute_reply": "2023-05-01T12:30:35.095344Z"
        },
        "trusted": true,
        "id": "5sshUOHAYfNe"
      },
      "execution_count": null,
      "outputs": []
    },
    {
      "cell_type": "markdown",
      "source": [
        "## Data preparation"
      ],
      "metadata": {
        "id": "heznNLkkYfNf"
      }
    },
    {
      "cell_type": "code",
      "source": [
        "BATCH_SIZE = 4\n",
        "data_dir = '/kaggle/input/hymenoptera-data/hymenoptera_data'"
      ],
      "metadata": {
        "execution": {
          "iopub.status.busy": "2023-05-01T12:30:35.098310Z",
          "iopub.execute_input": "2023-05-01T12:30:35.099967Z",
          "iopub.status.idle": "2023-05-01T12:30:35.107617Z",
          "shell.execute_reply.started": "2023-05-01T12:30:35.099931Z",
          "shell.execute_reply": "2023-05-01T12:30:35.106684Z"
        },
        "trusted": true,
        "id": "lSZ1OKF3YfNf"
      },
      "execution_count": null,
      "outputs": []
    },
    {
      "cell_type": "code",
      "source": [
        "data_transform = tv.transforms.Compose([tv.transforms.Grayscale(3), \n",
        "                                        tv.transforms.Resize((224, 224)),\n",
        "                                        tv.transforms.ToTensor()])"
      ],
      "metadata": {
        "execution": {
          "iopub.status.busy": "2023-05-01T12:30:35.112058Z",
          "iopub.execute_input": "2023-05-01T12:30:35.113926Z",
          "iopub.status.idle": "2023-05-01T12:30:35.119397Z",
          "shell.execute_reply.started": "2023-05-01T12:30:35.113898Z",
          "shell.execute_reply": "2023-05-01T12:30:35.118419Z"
        },
        "trusted": true,
        "id": "5shYkR1rYfNf"
      },
      "execution_count": null,
      "outputs": []
    },
    {
      "cell_type": "code",
      "source": [
        "train_dataset = datasets.ImageFolder(data_dir + '/train', data_transform)\n",
        "test_dataset = datasets.ImageFolder(data_dir + '/val', data_transform)\n",
        "\n",
        "train_loader = torch.utils.data.DataLoader(train_dataset, batch_size=BATCH_SIZE, shuffle=True)\n",
        "test_loader = torch.utils.data.DataLoader(train_dataset, batch_size=BATCH_SIZE, shuffle=True)"
      ],
      "metadata": {
        "execution": {
          "iopub.status.busy": "2023-05-01T12:30:35.121425Z",
          "iopub.execute_input": "2023-05-01T12:30:35.122301Z",
          "iopub.status.idle": "2023-05-01T12:30:35.138704Z",
          "shell.execute_reply.started": "2023-05-01T12:30:35.122264Z",
          "shell.execute_reply": "2023-05-01T12:30:35.137438Z"
        },
        "trusted": true,
        "id": "nT-IVQyyYfNg"
      },
      "execution_count": null,
      "outputs": []
    },
    {
      "cell_type": "code",
      "source": [
        "train_iter = torch.utils.data.DataLoader(train_dataset, batch_size=BATCH_SIZE)\n",
        "test_iter = torch.utils.data.DataLoader(test_dataset, batch_size=BATCH_SIZE)"
      ],
      "metadata": {
        "execution": {
          "iopub.status.busy": "2023-05-01T12:30:35.140838Z",
          "iopub.execute_input": "2023-05-01T12:30:35.141359Z",
          "iopub.status.idle": "2023-05-01T12:30:35.147785Z",
          "shell.execute_reply.started": "2023-05-01T12:30:35.141323Z",
          "shell.execute_reply": "2023-05-01T12:30:35.145839Z"
        },
        "trusted": true,
        "id": "kfxN35_wYfNg"
      },
      "execution_count": null,
      "outputs": []
    },
    {
      "cell_type": "code",
      "source": [
        "device = \"cuda\" if torch.cuda.is_available() else \"cpu\"\n",
        "device"
      ],
      "metadata": {
        "execution": {
          "iopub.status.busy": "2023-05-01T12:30:35.149964Z",
          "iopub.execute_input": "2023-05-01T12:30:35.150796Z",
          "iopub.status.idle": "2023-05-01T12:30:35.159023Z",
          "shell.execute_reply.started": "2023-05-01T12:30:35.150759Z",
          "shell.execute_reply": "2023-05-01T12:30:35.157811Z"
        },
        "trusted": true,
        "id": "kYNjKTHLYfNg",
        "outputId": "0b103337-69c3-43e8-f4e1-6491e06aebf3"
      },
      "execution_count": null,
      "outputs": [
        {
          "execution_count": 173,
          "output_type": "execute_result",
          "data": {
            "text/plain": "'cuda'"
          },
          "metadata": {}
        }
      ]
    },
    {
      "cell_type": "markdown",
      "source": [
        "## ResNet18\n",
        "\n"
      ],
      "metadata": {
        "id": "utHYp6G1YfNh"
      }
    },
    {
      "cell_type": "code",
      "source": [
        "model = tv.models.resnet18(pretrained=True)"
      ],
      "metadata": {
        "execution": {
          "iopub.status.busy": "2023-05-01T12:30:35.162046Z",
          "iopub.execute_input": "2023-05-01T12:30:35.162918Z",
          "iopub.status.idle": "2023-05-01T12:30:35.369954Z",
          "shell.execute_reply.started": "2023-05-01T12:30:35.162882Z",
          "shell.execute_reply": "2023-05-01T12:30:35.368935Z"
        },
        "trusted": true,
        "id": "XFuE4MSGYfNh"
      },
      "execution_count": null,
      "outputs": []
    },
    {
      "cell_type": "code",
      "source": [
        "for param in model.parameters():\n",
        "    param.requires_grad = False"
      ],
      "metadata": {
        "execution": {
          "iopub.status.busy": "2023-05-01T12:30:35.373390Z",
          "iopub.execute_input": "2023-05-01T12:30:35.374127Z",
          "iopub.status.idle": "2023-05-01T12:30:35.379225Z",
          "shell.execute_reply.started": "2023-05-01T12:30:35.374094Z",
          "shell.execute_reply": "2023-05-01T12:30:35.378075Z"
        },
        "trusted": true,
        "id": "cJXpP--dYfNi"
      },
      "execution_count": null,
      "outputs": []
    },
    {
      "cell_type": "code",
      "source": [
        "model.fc = nn.Linear(in_features=512, out_features=2)"
      ],
      "metadata": {
        "execution": {
          "iopub.status.busy": "2023-05-01T12:30:35.381318Z",
          "iopub.execute_input": "2023-05-01T12:30:35.381885Z",
          "iopub.status.idle": "2023-05-01T12:30:35.389038Z",
          "shell.execute_reply.started": "2023-05-01T12:30:35.381847Z",
          "shell.execute_reply": "2023-05-01T12:30:35.387715Z"
        },
        "trusted": true,
        "id": "hNtNzfBoYfNi"
      },
      "execution_count": null,
      "outputs": []
    },
    {
      "cell_type": "code",
      "source": [
        "print(\"Params to learn:\")\n",
        "params_to_update = []\n",
        "for name, param in model.named_parameters():\n",
        "    if param.requires_grad == True:\n",
        "        params_to_update.append(param)\n",
        "        print(\"\\t\",name)"
      ],
      "metadata": {
        "execution": {
          "iopub.status.busy": "2023-05-01T12:30:35.392864Z",
          "iopub.execute_input": "2023-05-01T12:30:35.393408Z",
          "iopub.status.idle": "2023-05-01T12:30:35.401491Z",
          "shell.execute_reply.started": "2023-05-01T12:30:35.393365Z",
          "shell.execute_reply": "2023-05-01T12:30:35.400297Z"
        },
        "trusted": true,
        "id": "5NXXeCXOYfNi",
        "outputId": "58a22d5f-999a-404b-a2ec-5a6bc3cc00eb"
      },
      "execution_count": null,
      "outputs": [
        {
          "name": "stdout",
          "text": "Params to learn:\n\t fc.weight\n\t fc.bias\n",
          "output_type": "stream"
        }
      ]
    },
    {
      "cell_type": "code",
      "source": [
        "trainer = torch.optim.Adam(params_to_update, lr=0.001)"
      ],
      "metadata": {
        "execution": {
          "iopub.status.busy": "2023-05-01T12:30:35.402969Z",
          "iopub.execute_input": "2023-05-01T12:30:35.403738Z",
          "iopub.status.idle": "2023-05-01T12:30:35.410501Z",
          "shell.execute_reply.started": "2023-05-01T12:30:35.403701Z",
          "shell.execute_reply": "2023-05-01T12:30:35.409464Z"
        },
        "trusted": true,
        "id": "d9JTWAYqYfNj"
      },
      "execution_count": null,
      "outputs": []
    },
    {
      "cell_type": "code",
      "source": [
        "loss_rn18 = train(model, train_iter, test_iter, trainer, 50)"
      ],
      "metadata": {
        "execution": {
          "iopub.status.busy": "2023-05-01T12:30:35.412123Z",
          "iopub.execute_input": "2023-05-01T12:30:35.412619Z",
          "iopub.status.idle": "2023-05-01T12:34:15.668193Z",
          "shell.execute_reply.started": "2023-05-01T12:30:35.412581Z",
          "shell.execute_reply": "2023-05-01T12:34:15.667071Z"
        },
        "trusted": true,
        "id": "cpyneDMiYfNj",
        "outputId": "cd02cc7d-c682-4ccc-84e1-b7edbae5c66b"
      },
      "execution_count": null,
      "outputs": [
        {
          "name": "stdout",
          "text": "--------------------\nepoch 1, loss 0.9706, train acc 0.824, test acc 0.542, time 4.3 sec\n--------------------\nepoch 2, loss 3.5243, train acc 0.508, test acc 0.542, time 4.5 sec\n--------------------\nepoch 3, loss 1.9035, train acc 0.590, test acc 0.542, time 4.3 sec\n--------------------\nepoch 4, loss 1.0680, train acc 0.664, test acc 0.569, time 4.4 sec\n--------------------\nepoch 5, loss 0.7256, train acc 0.730, test acc 0.608, time 4.3 sec\n--------------------\nepoch 6, loss 0.5508, train acc 0.762, test acc 0.641, time 4.3 sec\n--------------------\nepoch 7, loss 0.4586, train acc 0.799, test acc 0.647, time 4.7 sec\n--------------------\nepoch 8, loss 0.4023, train acc 0.811, test acc 0.673, time 4.4 sec\n--------------------\nepoch 9, loss 0.3627, train acc 0.828, test acc 0.699, time 4.4 sec\n--------------------\nepoch 10, loss 0.3321, train acc 0.832, test acc 0.725, time 4.3 sec\n--------------------\nepoch 11, loss 0.3067, train acc 0.844, test acc 0.732, time 4.3 sec\n--------------------\nepoch 12, loss 0.2851, train acc 0.865, test acc 0.745, time 4.4 sec\n--------------------\nepoch 13, loss 0.2662, train acc 0.873, test acc 0.745, time 4.3 sec\n--------------------\nepoch 14, loss 0.2496, train acc 0.885, test acc 0.758, time 4.8 sec\n--------------------\nepoch 15, loss 0.2348, train acc 0.893, test acc 0.765, time 4.3 sec\n--------------------\nepoch 16, loss 0.2217, train acc 0.898, test acc 0.765, time 4.4 sec\n--------------------\nepoch 17, loss 0.2098, train acc 0.910, test acc 0.765, time 4.3 sec\n--------------------\nepoch 18, loss 0.1991, train acc 0.914, test acc 0.765, time 4.3 sec\n--------------------\nepoch 19, loss 0.1892, train acc 0.918, test acc 0.771, time 4.4 sec\n--------------------\nepoch 20, loss 0.1799, train acc 0.926, test acc 0.778, time 4.3 sec\n--------------------\nepoch 21, loss 0.1713, train acc 0.939, test acc 0.778, time 4.6 sec\n--------------------\nepoch 22, loss 0.1630, train acc 0.943, test acc 0.778, time 4.4 sec\n--------------------\nepoch 23, loss 0.1552, train acc 0.947, test acc 0.784, time 4.4 sec\n--------------------\nepoch 24, loss 0.1477, train acc 0.947, test acc 0.784, time 4.4 sec\n--------------------\nepoch 25, loss 0.1405, train acc 0.947, test acc 0.804, time 4.5 sec\n--------------------\nepoch 26, loss 0.1335, train acc 0.947, test acc 0.804, time 4.4 sec\n--------------------\nepoch 27, loss 0.1268, train acc 0.951, test acc 0.797, time 4.4 sec\n--------------------\nepoch 28, loss 0.1203, train acc 0.959, test acc 0.817, time 4.4 sec\n--------------------\nepoch 29, loss 0.1141, train acc 0.967, test acc 0.817, time 4.7 sec\n--------------------\nepoch 30, loss 0.1081, train acc 0.971, test acc 0.824, time 4.2 sec\n--------------------\nepoch 31, loss 0.1022, train acc 0.975, test acc 0.824, time 4.3 sec\n--------------------\nepoch 32, loss 0.0966, train acc 0.975, test acc 0.837, time 4.4 sec\n--------------------\nepoch 33, loss 0.0912, train acc 0.980, test acc 0.843, time 4.3 sec\n--------------------\nepoch 34, loss 0.0860, train acc 0.984, test acc 0.843, time 4.4 sec\n--------------------\nepoch 35, loss 0.0810, train acc 0.988, test acc 0.850, time 4.3 sec\n--------------------\nepoch 36, loss 0.0762, train acc 0.988, test acc 0.850, time 4.7 sec\n--------------------\nepoch 37, loss 0.0716, train acc 0.988, test acc 0.850, time 4.4 sec\n--------------------\nepoch 38, loss 0.0672, train acc 0.988, test acc 0.843, time 4.2 sec\n--------------------\nepoch 39, loss 0.0630, train acc 0.988, test acc 0.843, time 4.3 sec\n--------------------\nepoch 40, loss 0.0589, train acc 0.992, test acc 0.850, time 4.4 sec\n--------------------\nepoch 41, loss 0.0550, train acc 0.996, test acc 0.856, time 4.2 sec\n--------------------\nepoch 42, loss 0.0513, train acc 0.996, test acc 0.856, time 4.3 sec\n--------------------\nepoch 43, loss 0.0477, train acc 0.996, test acc 0.856, time 4.8 sec\n--------------------\nepoch 44, loss 0.0442, train acc 1.000, test acc 0.856, time 4.3 sec\n--------------------\nepoch 45, loss 0.0408, train acc 1.000, test acc 0.856, time 4.2 sec\n--------------------\nepoch 46, loss 0.0375, train acc 1.000, test acc 0.856, time 4.3 sec\n--------------------\nepoch 47, loss 0.0344, train acc 1.000, test acc 0.863, time 4.4 sec\n--------------------\nepoch 48, loss 0.0314, train acc 1.000, test acc 0.863, time 4.5 sec\n--------------------\nepoch 49, loss 0.0286, train acc 1.000, test acc 0.863, time 4.5 sec\n--------------------\nepoch 50, loss 0.0260, train acc 1.000, test acc 0.863, time 4.8 sec\n",
          "output_type": "stream"
        }
      ]
    },
    {
      "cell_type": "markdown",
      "source": [
        "## VGG16\n"
      ],
      "metadata": {
        "id": "TkcwXMSXYfNj"
      }
    },
    {
      "cell_type": "code",
      "source": [
        "model2 = tv.models.vgg16(pretrained=True)"
      ],
      "metadata": {
        "execution": {
          "iopub.status.busy": "2023-05-01T12:34:15.669777Z",
          "iopub.execute_input": "2023-05-01T12:34:15.670134Z",
          "iopub.status.idle": "2023-05-01T12:34:17.339854Z",
          "shell.execute_reply.started": "2023-05-01T12:34:15.670095Z",
          "shell.execute_reply": "2023-05-01T12:34:17.338658Z"
        },
        "trusted": true,
        "id": "gwbMqABcYfNk"
      },
      "execution_count": null,
      "outputs": []
    },
    {
      "cell_type": "code",
      "source": [
        "for param in model2.parameters():\n",
        "    param.requires_grad = False"
      ],
      "metadata": {
        "execution": {
          "iopub.status.busy": "2023-05-01T12:34:17.341433Z",
          "iopub.execute_input": "2023-05-01T12:34:17.342458Z",
          "iopub.status.idle": "2023-05-01T12:34:17.348152Z",
          "shell.execute_reply.started": "2023-05-01T12:34:17.342416Z",
          "shell.execute_reply": "2023-05-01T12:34:17.346786Z"
        },
        "trusted": true,
        "id": "_6bOEfc3YfNk"
      },
      "execution_count": null,
      "outputs": []
    },
    {
      "cell_type": "code",
      "source": [
        "model2.classifier._modules['6'] = nn.Linear(in_features=4096, out_features=2)"
      ],
      "metadata": {
        "execution": {
          "iopub.status.busy": "2023-05-01T12:34:17.349945Z",
          "iopub.execute_input": "2023-05-01T12:34:17.350309Z",
          "iopub.status.idle": "2023-05-01T12:34:17.360287Z",
          "shell.execute_reply.started": "2023-05-01T12:34:17.350268Z",
          "shell.execute_reply": "2023-05-01T12:34:17.359264Z"
        },
        "trusted": true,
        "id": "aYXeXHy_YfNk"
      },
      "execution_count": null,
      "outputs": []
    },
    {
      "cell_type": "code",
      "source": [
        "print(\"Params to learn:\")\n",
        "params_to_update2 = []\n",
        "for name, param in model2.named_parameters():\n",
        "    if param.requires_grad == True:\n",
        "        params_to_update2.append(param)\n",
        "        print(\"\\t\",name)"
      ],
      "metadata": {
        "execution": {
          "iopub.status.busy": "2023-05-01T12:34:17.366405Z",
          "iopub.execute_input": "2023-05-01T12:34:17.366704Z",
          "iopub.status.idle": "2023-05-01T12:34:17.374268Z",
          "shell.execute_reply.started": "2023-05-01T12:34:17.366663Z",
          "shell.execute_reply": "2023-05-01T12:34:17.373069Z"
        },
        "trusted": true,
        "id": "y8pzLIdvYfNk",
        "outputId": "efafd437-1b20-48c1-eb10-5f8e48196555"
      },
      "execution_count": null,
      "outputs": [
        {
          "name": "stdout",
          "text": "Params to learn:\n\t classifier.6.weight\n\t classifier.6.bias\n",
          "output_type": "stream"
        }
      ]
    },
    {
      "cell_type": "code",
      "source": [
        "trainer2 = torch.optim.Adam(params_to_update2, lr=0.001)"
      ],
      "metadata": {
        "execution": {
          "iopub.status.busy": "2023-05-01T12:34:17.376071Z",
          "iopub.execute_input": "2023-05-01T12:34:17.376450Z",
          "iopub.status.idle": "2023-05-01T12:34:17.383625Z",
          "shell.execute_reply.started": "2023-05-01T12:34:17.376411Z",
          "shell.execute_reply": "2023-05-01T12:34:17.382388Z"
        },
        "trusted": true,
        "id": "o0Xn0m7VYfNk"
      },
      "execution_count": null,
      "outputs": []
    },
    {
      "cell_type": "code",
      "source": [
        "loss_vgg16 = train(model2, train_iter, test_iter, trainer2, 50)"
      ],
      "metadata": {
        "execution": {
          "iopub.status.busy": "2023-05-01T12:34:17.385420Z",
          "iopub.execute_input": "2023-05-01T12:34:17.386213Z",
          "iopub.status.idle": "2023-05-01T12:38:38.178449Z",
          "shell.execute_reply.started": "2023-05-01T12:34:17.386177Z",
          "shell.execute_reply": "2023-05-01T12:38:38.177257Z"
        },
        "trusted": true,
        "id": "Wk0yhGQcYfNk",
        "outputId": "57e983d0-2158-4dab-8473-ba000d77e40c"
      },
      "execution_count": null,
      "outputs": [
        {
          "name": "stdout",
          "text": "--------------------\nepoch 1, loss 1.4314, train acc 0.816, test acc 0.542, time 5.3 sec\n--------------------\nepoch 2, loss 2.7290, train acc 0.594, test acc 0.699, time 5.2 sec\n--------------------\nepoch 3, loss 0.8074, train acc 0.787, test acc 0.752, time 5.3 sec\n--------------------\nepoch 4, loss 0.4061, train acc 0.869, test acc 0.784, time 5.2 sec\n--------------------\nepoch 5, loss 0.2582, train acc 0.914, test acc 0.804, time 5.3 sec\n--------------------\nepoch 6, loss 0.1881, train acc 0.951, test acc 0.817, time 5.3 sec\n--------------------\nepoch 7, loss 0.1458, train acc 0.963, test acc 0.824, time 5.2 sec\n--------------------\nepoch 8, loss 0.1163, train acc 0.971, test acc 0.837, time 5.1 sec\n--------------------\nepoch 9, loss 0.0946, train acc 0.975, test acc 0.850, time 5.2 sec\n--------------------\nepoch 10, loss 0.0785, train acc 0.988, test acc 0.863, time 5.1 sec\n--------------------\nepoch 11, loss 0.0664, train acc 0.988, test acc 0.869, time 5.2 sec\n--------------------\nepoch 12, loss 0.0567, train acc 0.992, test acc 0.869, time 5.4 sec\n--------------------\nepoch 13, loss 0.0482, train acc 1.000, test acc 0.882, time 5.1 sec\n--------------------\nepoch 14, loss 0.0403, train acc 1.000, test acc 0.869, time 5.2 sec\n--------------------\nepoch 15, loss 0.0326, train acc 1.000, test acc 0.876, time 5.3 sec\n--------------------\nepoch 16, loss 0.0256, train acc 1.000, test acc 0.869, time 5.1 sec\n--------------------\nepoch 17, loss 0.0197, train acc 1.000, test acc 0.863, time 5.2 sec\n--------------------\nepoch 18, loss 0.0157, train acc 1.000, test acc 0.863, time 5.5 sec\n--------------------\nepoch 19, loss 0.0132, train acc 1.000, test acc 0.863, time 5.1 sec\n--------------------\nepoch 20, loss 0.0117, train acc 1.000, test acc 0.863, time 5.2 sec\n--------------------\nepoch 21, loss 0.0106, train acc 1.000, test acc 0.863, time 5.1 sec\n--------------------\nepoch 22, loss 0.0097, train acc 1.000, test acc 0.863, time 5.2 sec\n--------------------\nepoch 23, loss 0.0090, train acc 1.000, test acc 0.863, time 5.1 sec\n--------------------\nepoch 24, loss 0.0084, train acc 1.000, test acc 0.863, time 5.5 sec\n--------------------\nepoch 25, loss 0.0078, train acc 1.000, test acc 0.863, time 5.1 sec\n--------------------\nepoch 26, loss 0.0074, train acc 1.000, test acc 0.863, time 5.3 sec\n--------------------\nepoch 27, loss 0.0069, train acc 1.000, test acc 0.863, time 5.1 sec\n--------------------\nepoch 28, loss 0.0065, train acc 1.000, test acc 0.863, time 5.2 sec\n--------------------\nepoch 29, loss 0.0062, train acc 1.000, test acc 0.863, time 5.1 sec\n--------------------\nepoch 30, loss 0.0058, train acc 1.000, test acc 0.863, time 5.3 sec\n--------------------\nepoch 31, loss 0.0055, train acc 1.000, test acc 0.863, time 5.1 sec\n--------------------\nepoch 32, loss 0.0053, train acc 1.000, test acc 0.863, time 5.1 sec\n--------------------\nepoch 33, loss 0.0050, train acc 1.000, test acc 0.863, time 5.1 sec\n--------------------\nepoch 34, loss 0.0048, train acc 1.000, test acc 0.863, time 5.2 sec\n--------------------\nepoch 35, loss 0.0045, train acc 1.000, test acc 0.863, time 5.2 sec\n--------------------\nepoch 36, loss 0.0043, train acc 1.000, test acc 0.863, time 5.4 sec\n--------------------\nepoch 37, loss 0.0041, train acc 1.000, test acc 0.850, time 5.2 sec\n--------------------\nepoch 38, loss 0.0039, train acc 1.000, test acc 0.850, time 5.2 sec\n--------------------\nepoch 39, loss 0.0038, train acc 1.000, test acc 0.850, time 5.2 sec\n--------------------\nepoch 40, loss 0.0036, train acc 1.000, test acc 0.850, time 5.2 sec\n--------------------\nepoch 41, loss 0.0035, train acc 1.000, test acc 0.850, time 5.2 sec\n--------------------\nepoch 42, loss 0.0033, train acc 1.000, test acc 0.850, time 5.5 sec\n--------------------\nepoch 43, loss 0.0032, train acc 1.000, test acc 0.850, time 5.2 sec\n--------------------\nepoch 44, loss 0.0030, train acc 1.000, test acc 0.850, time 5.1 sec\n--------------------\nepoch 45, loss 0.0029, train acc 1.000, test acc 0.850, time 5.2 sec\n--------------------\nepoch 46, loss 0.0028, train acc 1.000, test acc 0.850, time 5.2 sec\n--------------------\nepoch 47, loss 0.0027, train acc 1.000, test acc 0.850, time 5.1 sec\n--------------------\nepoch 48, loss 0.0026, train acc 1.000, test acc 0.850, time 5.5 sec\n--------------------\nepoch 49, loss 0.0025, train acc 1.000, test acc 0.850, time 5.2 sec\n--------------------\nepoch 50, loss 0.0024, train acc 1.000, test acc 0.850, time 5.1 sec\n",
          "output_type": "stream"
        }
      ]
    },
    {
      "cell_type": "markdown",
      "source": [
        "## Inception_v3\n",
        "\n"
      ],
      "metadata": {
        "id": "sNWMsVEOYfNl"
      }
    },
    {
      "cell_type": "code",
      "source": [
        "model3 = tv.models.inception_v3(pretrained=True)"
      ],
      "metadata": {
        "execution": {
          "iopub.status.busy": "2023-05-01T12:38:38.179981Z",
          "iopub.execute_input": "2023-05-01T12:38:38.180644Z",
          "iopub.status.idle": "2023-05-01T12:38:38.510239Z",
          "shell.execute_reply.started": "2023-05-01T12:38:38.180587Z",
          "shell.execute_reply": "2023-05-01T12:38:38.509184Z"
        },
        "trusted": true,
        "id": "k5HSfvPxYfNl"
      },
      "execution_count": null,
      "outputs": []
    },
    {
      "cell_type": "code",
      "source": [
        "for param in model3.parameters():\n",
        "    param.requires_grad = False"
      ],
      "metadata": {
        "execution": {
          "iopub.status.busy": "2023-05-01T12:38:38.511914Z",
          "iopub.execute_input": "2023-05-01T12:38:38.512287Z",
          "iopub.status.idle": "2023-05-01T12:38:38.519205Z",
          "shell.execute_reply.started": "2023-05-01T12:38:38.512250Z",
          "shell.execute_reply": "2023-05-01T12:38:38.518009Z"
        },
        "trusted": true,
        "id": "uZLWKiqZYfNl"
      },
      "execution_count": null,
      "outputs": []
    },
    {
      "cell_type": "code",
      "source": [
        "model3.fc = nn.Linear(in_features=2048, out_features=2)"
      ],
      "metadata": {
        "execution": {
          "iopub.status.busy": "2023-05-01T12:38:38.521095Z",
          "iopub.execute_input": "2023-05-01T12:38:38.521516Z",
          "iopub.status.idle": "2023-05-01T12:38:38.531337Z",
          "shell.execute_reply.started": "2023-05-01T12:38:38.521480Z",
          "shell.execute_reply": "2023-05-01T12:38:38.530352Z"
        },
        "trusted": true,
        "id": "ZLvCZ0ITYfNl"
      },
      "execution_count": null,
      "outputs": []
    },
    {
      "cell_type": "code",
      "source": [
        "model3.aux_logits = False "
      ],
      "metadata": {
        "execution": {
          "iopub.status.busy": "2023-05-01T12:38:38.532832Z",
          "iopub.execute_input": "2023-05-01T12:38:38.533730Z",
          "iopub.status.idle": "2023-05-01T12:38:38.541941Z",
          "shell.execute_reply.started": "2023-05-01T12:38:38.533691Z",
          "shell.execute_reply": "2023-05-01T12:38:38.540890Z"
        },
        "trusted": true,
        "id": "887SBuonYfNl"
      },
      "execution_count": null,
      "outputs": []
    },
    {
      "cell_type": "code",
      "source": [
        "print(\"Params to learn:\")\n",
        "params_to_update3 = []\n",
        "for name, param in model3.named_parameters():\n",
        "    if param.requires_grad == True:\n",
        "        params_to_update3.append(param)\n",
        "        print(\"\\t\",name)"
      ],
      "metadata": {
        "execution": {
          "iopub.status.busy": "2023-05-01T12:38:38.543397Z",
          "iopub.execute_input": "2023-05-01T12:38:38.543834Z",
          "iopub.status.idle": "2023-05-01T12:38:38.560036Z",
          "shell.execute_reply.started": "2023-05-01T12:38:38.543728Z",
          "shell.execute_reply": "2023-05-01T12:38:38.558963Z"
        },
        "trusted": true,
        "id": "OddcPQxsYfNm",
        "outputId": "460fb1cf-170c-4154-c687-a136a3a54d1d"
      },
      "execution_count": null,
      "outputs": [
        {
          "name": "stdout",
          "text": "Params to learn:\n\t fc.weight\n\t fc.bias\n",
          "output_type": "stream"
        }
      ]
    },
    {
      "cell_type": "markdown",
      "source": [],
      "metadata": {
        "id": "1TFr0I0uYfNm"
      }
    },
    {
      "cell_type": "code",
      "source": [
        "trainer3 = torch.optim.Adam(params_to_update3, lr=0.001)"
      ],
      "metadata": {
        "execution": {
          "iopub.status.busy": "2023-05-01T12:38:38.561707Z",
          "iopub.execute_input": "2023-05-01T12:38:38.562338Z",
          "iopub.status.idle": "2023-05-01T12:38:38.569105Z",
          "shell.execute_reply.started": "2023-05-01T12:38:38.562302Z",
          "shell.execute_reply": "2023-05-01T12:38:38.568078Z"
        },
        "trusted": true,
        "id": "5-XuzJm1YfNm"
      },
      "execution_count": null,
      "outputs": []
    },
    {
      "cell_type": "code",
      "source": [
        "data_transform_iv3 = tv.transforms.Compose([tv.transforms.Grayscale(3), \n",
        "                                        tv.transforms.Resize((299, 299)), # only difference from other data transform\n",
        "                                        tv.transforms.ToTensor()])"
      ],
      "metadata": {
        "execution": {
          "iopub.status.busy": "2023-05-01T12:38:38.570682Z",
          "iopub.execute_input": "2023-05-01T12:38:38.571109Z",
          "iopub.status.idle": "2023-05-01T12:38:38.580094Z",
          "shell.execute_reply.started": "2023-05-01T12:38:38.571057Z",
          "shell.execute_reply": "2023-05-01T12:38:38.579028Z"
        },
        "trusted": true,
        "id": "CFXwjV_QYfNm"
      },
      "execution_count": null,
      "outputs": []
    },
    {
      "cell_type": "code",
      "source": [
        "train_dataset_iv3 = datasets.ImageFolder(data_dir + '/train', data_transform_iv3)\n",
        "test_dataset_iv3 = datasets.ImageFolder(data_dir + '/val', data_transform_iv3)\n",
        "\n",
        "train_loader_iv3 = torch.utils.data.DataLoader(train_dataset_iv3, batch_size=BATCH_SIZE, shuffle=True)\n",
        "test_loader_iv3 = torch.utils.data.DataLoader(train_dataset_iv3, batch_size=BATCH_SIZE, shuffle=True)"
      ],
      "metadata": {
        "execution": {
          "iopub.status.busy": "2023-05-01T12:38:38.583190Z",
          "iopub.execute_input": "2023-05-01T12:38:38.583457Z",
          "iopub.status.idle": "2023-05-01T12:38:38.596742Z",
          "shell.execute_reply.started": "2023-05-01T12:38:38.583431Z",
          "shell.execute_reply": "2023-05-01T12:38:38.595789Z"
        },
        "trusted": true,
        "id": "V-bbreU9YfNm"
      },
      "execution_count": null,
      "outputs": []
    },
    {
      "cell_type": "code",
      "source": [
        "train_iter_iv3 = torch.utils.data.DataLoader(train_dataset_iv3, batch_size=BATCH_SIZE)\n",
        "test_iter_iv3 = torch.utils.data.DataLoader(test_dataset_iv3, batch_size=BATCH_SIZE)"
      ],
      "metadata": {
        "execution": {
          "iopub.status.busy": "2023-05-01T12:38:38.600177Z",
          "iopub.execute_input": "2023-05-01T12:38:38.600428Z",
          "iopub.status.idle": "2023-05-01T12:38:38.606884Z",
          "shell.execute_reply.started": "2023-05-01T12:38:38.600403Z",
          "shell.execute_reply": "2023-05-01T12:38:38.605675Z"
        },
        "trusted": true,
        "id": "s26zx61ZYfNm"
      },
      "execution_count": null,
      "outputs": []
    },
    {
      "cell_type": "code",
      "source": [
        "loss_iv3 = train(model3, train_iter_iv3, test_iter_iv3, trainer3, 50)"
      ],
      "metadata": {
        "execution": {
          "iopub.status.busy": "2023-05-01T12:38:38.608339Z",
          "iopub.execute_input": "2023-05-01T12:38:38.608969Z",
          "iopub.status.idle": "2023-05-01T12:43:50.952931Z",
          "shell.execute_reply.started": "2023-05-01T12:38:38.608928Z",
          "shell.execute_reply": "2023-05-01T12:43:50.951155Z"
        },
        "trusted": true,
        "id": "qsn1dITBYfNn",
        "outputId": "670d2455-0798-40e4-fa45-308e9eb79de8"
      },
      "execution_count": null,
      "outputs": [
        {
          "name": "stdout",
          "text": "--------------------\nepoch 1, loss 1.1302, train acc 0.816, test acc 0.542, time 6.5 sec\n--------------------\nepoch 2, loss 3.1919, train acc 0.529, test acc 0.542, time 6.0 sec\n--------------------\nepoch 3, loss 1.9671, train acc 0.611, test acc 0.542, time 6.2 sec\n--------------------\nepoch 4, loss 1.2330, train acc 0.656, test acc 0.575, time 6.3 sec\n--------------------\nepoch 5, loss 0.8387, train acc 0.734, test acc 0.608, time 6.1 sec\n--------------------\nepoch 6, loss 0.5553, train acc 0.787, test acc 0.647, time 6.1 sec\n--------------------\nepoch 7, loss 0.3922, train acc 0.832, test acc 0.699, time 6.1 sec\n--------------------\nepoch 8, loss 0.3082, train acc 0.865, test acc 0.739, time 6.0 sec\n--------------------\nepoch 9, loss 0.2568, train acc 0.893, test acc 0.752, time 6.8 sec\n--------------------\nepoch 10, loss 0.2194, train acc 0.898, test acc 0.778, time 6.2 sec\n--------------------\nepoch 11, loss 0.1908, train acc 0.914, test acc 0.784, time 6.2 sec\n--------------------\nepoch 12, loss 0.1684, train acc 0.947, test acc 0.804, time 6.1 sec\n--------------------\nepoch 13, loss 0.1504, train acc 0.951, test acc 0.817, time 6.1 sec\n--------------------\nepoch 14, loss 0.1354, train acc 0.963, test acc 0.817, time 6.6 sec\n--------------------\nepoch 15, loss 0.1224, train acc 0.967, test acc 0.830, time 6.0 sec\n--------------------\nepoch 16, loss 0.1110, train acc 0.971, test acc 0.830, time 6.2 sec\n--------------------\nepoch 17, loss 0.1008, train acc 0.980, test acc 0.837, time 6.2 sec\n--------------------\nepoch 18, loss 0.0919, train acc 0.988, test acc 0.830, time 6.1 sec\n--------------------\nepoch 19, loss 0.0841, train acc 0.992, test acc 0.850, time 6.7 sec\n--------------------\nepoch 20, loss 0.0772, train acc 0.992, test acc 0.850, time 6.1 sec\n--------------------\nepoch 21, loss 0.0711, train acc 0.996, test acc 0.856, time 6.2 sec\n--------------------\nepoch 22, loss 0.0656, train acc 0.996, test acc 0.863, time 6.1 sec\n--------------------\nepoch 23, loss 0.0606, train acc 0.996, test acc 0.863, time 6.2 sec\n--------------------\nepoch 24, loss 0.0560, train acc 0.996, test acc 0.869, time 6.7 sec\n--------------------\nepoch 25, loss 0.0517, train acc 1.000, test acc 0.869, time 6.2 sec\n--------------------\nepoch 26, loss 0.0477, train acc 1.000, test acc 0.876, time 6.2 sec\n--------------------\nepoch 27, loss 0.0440, train acc 1.000, test acc 0.876, time 6.1 sec\n--------------------\nepoch 28, loss 0.0404, train acc 1.000, test acc 0.876, time 6.3 sec\n--------------------\nepoch 29, loss 0.0370, train acc 1.000, test acc 0.889, time 6.5 sec\n--------------------\nepoch 30, loss 0.0337, train acc 1.000, test acc 0.882, time 6.3 sec\n--------------------\nepoch 31, loss 0.0306, train acc 1.000, test acc 0.882, time 6.1 sec\n--------------------\nepoch 32, loss 0.0277, train acc 1.000, test acc 0.889, time 6.1 sec\n--------------------\nepoch 33, loss 0.0250, train acc 1.000, test acc 0.895, time 6.2 sec\n--------------------\nepoch 34, loss 0.0226, train acc 1.000, test acc 0.895, time 6.5 sec\n--------------------\nepoch 35, loss 0.0204, train acc 1.000, test acc 0.895, time 6.2 sec\n--------------------\nepoch 36, loss 0.0186, train acc 1.000, test acc 0.895, time 6.0 sec\n--------------------\nepoch 37, loss 0.0169, train acc 1.000, test acc 0.895, time 6.2 sec\n--------------------\nepoch 38, loss 0.0156, train acc 1.000, test acc 0.895, time 6.3 sec\n--------------------\nepoch 39, loss 0.0144, train acc 1.000, test acc 0.895, time 6.5 sec\n--------------------\nepoch 40, loss 0.0134, train acc 1.000, test acc 0.895, time 6.3 sec\n--------------------\nepoch 41, loss 0.0125, train acc 1.000, test acc 0.895, time 6.1 sec\n--------------------\nepoch 42, loss 0.0117, train acc 1.000, test acc 0.895, time 6.1 sec\n--------------------\nepoch 43, loss 0.0111, train acc 1.000, test acc 0.895, time 6.1 sec\n--------------------\nepoch 44, loss 0.0105, train acc 1.000, test acc 0.895, time 6.6 sec\n--------------------\nepoch 45, loss 0.0099, train acc 1.000, test acc 0.895, time 6.2 sec\n--------------------\nepoch 46, loss 0.0094, train acc 1.000, test acc 0.895, time 6.1 sec\n--------------------\nepoch 47, loss 0.0090, train acc 1.000, test acc 0.895, time 6.2 sec\n--------------------\nepoch 48, loss 0.0086, train acc 1.000, test acc 0.889, time 6.1 sec\n--------------------\nepoch 49, loss 0.0082, train acc 1.000, test acc 0.889, time 6.7 sec\n--------------------\nepoch 50, loss 0.0079, train acc 1.000, test acc 0.889, time 6.0 sec\n",
          "output_type": "stream"
        }
      ]
    },
    {
      "cell_type": "markdown",
      "source": [
        "## DenseNet161\n",
        "\n"
      ],
      "metadata": {
        "id": "-JyBj_2DYfNn"
      }
    },
    {
      "cell_type": "code",
      "source": [
        "model4 = tv.models.densenet161(pretrained=True)"
      ],
      "metadata": {
        "execution": {
          "iopub.status.busy": "2023-05-01T12:48:15.236415Z",
          "iopub.execute_input": "2023-05-01T12:48:15.237392Z",
          "iopub.status.idle": "2023-05-01T12:48:15.817392Z",
          "shell.execute_reply.started": "2023-05-01T12:48:15.237348Z",
          "shell.execute_reply": "2023-05-01T12:48:15.815832Z"
        },
        "trusted": true,
        "id": "74sVzrXpYfNn"
      },
      "execution_count": null,
      "outputs": []
    },
    {
      "cell_type": "code",
      "source": [
        "for param in model4.parameters():\n",
        "    param.requires_grad = False"
      ],
      "metadata": {
        "execution": {
          "iopub.status.busy": "2023-05-01T12:48:16.755920Z",
          "iopub.execute_input": "2023-05-01T12:48:16.756295Z",
          "iopub.status.idle": "2023-05-01T12:48:16.766544Z",
          "shell.execute_reply.started": "2023-05-01T12:48:16.756259Z",
          "shell.execute_reply": "2023-05-01T12:48:16.765011Z"
        },
        "trusted": true,
        "id": "Tyt9deKbYfNn"
      },
      "execution_count": null,
      "outputs": []
    },
    {
      "cell_type": "code",
      "source": [
        "model4.classifier = nn.Linear(in_features=2208, out_features=2)"
      ],
      "metadata": {
        "execution": {
          "iopub.status.busy": "2023-05-01T12:48:17.648545Z",
          "iopub.execute_input": "2023-05-01T12:48:17.649261Z",
          "iopub.status.idle": "2023-05-01T12:48:17.655423Z",
          "shell.execute_reply.started": "2023-05-01T12:48:17.649221Z",
          "shell.execute_reply": "2023-05-01T12:48:17.654317Z"
        },
        "trusted": true,
        "id": "S6wpeA8MYfNn"
      },
      "execution_count": null,
      "outputs": []
    },
    {
      "cell_type": "code",
      "source": [
        "print(\"Params to learn:\")\n",
        "params_to_update4 = []\n",
        "for name, param in model4.named_parameters():\n",
        "    if param.requires_grad == True:\n",
        "        params_to_update4.append(param)\n",
        "        print(\"\\t\",name)"
      ],
      "metadata": {
        "execution": {
          "iopub.status.busy": "2023-05-01T12:48:18.906684Z",
          "iopub.execute_input": "2023-05-01T12:48:18.907148Z",
          "iopub.status.idle": "2023-05-01T12:48:18.925879Z",
          "shell.execute_reply.started": "2023-05-01T12:48:18.907095Z",
          "shell.execute_reply": "2023-05-01T12:48:18.924704Z"
        },
        "trusted": true,
        "id": "HzfagjUfYfNn",
        "outputId": "35f274b1-ac52-4588-9d0c-1fa1b06bcbe6"
      },
      "execution_count": null,
      "outputs": [
        {
          "name": "stdout",
          "text": "Params to learn:\n\t classifier.weight\n\t classifier.bias\n",
          "output_type": "stream"
        }
      ]
    },
    {
      "cell_type": "code",
      "source": [
        "trainer4 = torch.optim.Adam(params_to_update4, lr=0.001)"
      ],
      "metadata": {
        "execution": {
          "iopub.status.busy": "2023-05-01T12:48:20.221097Z",
          "iopub.execute_input": "2023-05-01T12:48:20.221466Z",
          "iopub.status.idle": "2023-05-01T12:48:20.226879Z",
          "shell.execute_reply.started": "2023-05-01T12:48:20.221433Z",
          "shell.execute_reply": "2023-05-01T12:48:20.225797Z"
        },
        "trusted": true,
        "id": "Cg3Ffr4MYfNo"
      },
      "execution_count": null,
      "outputs": []
    },
    {
      "cell_type": "code",
      "source": [
        "loss_dn = train(model4, train_iter, test_iter, trainer4, 50)"
      ],
      "metadata": {
        "execution": {
          "iopub.status.busy": "2023-05-01T12:48:21.375761Z",
          "iopub.execute_input": "2023-05-01T12:48:21.376496Z",
          "iopub.status.idle": "2023-05-01T12:54:18.549606Z",
          "shell.execute_reply.started": "2023-05-01T12:48:21.376455Z",
          "shell.execute_reply": "2023-05-01T12:54:18.548475Z"
        },
        "trusted": true,
        "id": "FieCKXpKYfNo",
        "outputId": "5b41875f-83ad-4c76-c6de-0fb980081a79"
      },
      "execution_count": null,
      "outputs": [
        {
          "name": "stdout",
          "text": "--------------------\nepoch 1, loss 1.0182, train acc 0.832, test acc 0.542, time 7.9 sec\n--------------------\nepoch 2, loss 3.9099, train acc 0.520, test acc 0.542, time 7.0 sec\n--------------------\nepoch 3, loss 1.8495, train acc 0.623, test acc 0.542, time 7.1 sec\n--------------------\nepoch 4, loss 0.9577, train acc 0.697, test acc 0.582, time 7.0 sec\n--------------------\nepoch 5, loss 0.5069, train acc 0.779, test acc 0.686, time 7.3 sec\n--------------------\nepoch 6, loss 0.3213, train acc 0.865, test acc 0.771, time 7.1 sec\n--------------------\nepoch 7, loss 0.2490, train acc 0.885, test acc 0.817, time 7.1 sec\n--------------------\nepoch 8, loss 0.2119, train acc 0.910, test acc 0.824, time 7.0 sec\n--------------------\nepoch 9, loss 0.1856, train acc 0.926, test acc 0.830, time 7.5 sec\n--------------------\nepoch 10, loss 0.1647, train acc 0.943, test acc 0.856, time 6.9 sec\n--------------------\nepoch 11, loss 0.1474, train acc 0.947, test acc 0.850, time 7.0 sec\n--------------------\nepoch 12, loss 0.1328, train acc 0.959, test acc 0.869, time 7.1 sec\n--------------------\nepoch 13, loss 0.1200, train acc 0.967, test acc 0.876, time 6.9 sec\n--------------------\nepoch 14, loss 0.1086, train acc 0.980, test acc 0.882, time 7.4 sec\n--------------------\nepoch 15, loss 0.0982, train acc 0.988, test acc 0.889, time 7.1 sec\n--------------------\nepoch 16, loss 0.0885, train acc 0.988, test acc 0.902, time 7.0 sec\n--------------------\nepoch 17, loss 0.0796, train acc 0.992, test acc 0.908, time 7.0 sec\n--------------------\nepoch 18, loss 0.0713, train acc 0.992, test acc 0.902, time 7.5 sec\n--------------------\nepoch 19, loss 0.0635, train acc 0.992, test acc 0.902, time 7.0 sec\n--------------------\nepoch 20, loss 0.0564, train acc 0.996, test acc 0.908, time 7.1 sec\n--------------------\nepoch 21, loss 0.0499, train acc 0.996, test acc 0.895, time 7.0 sec\n--------------------\nepoch 22, loss 0.0438, train acc 1.000, test acc 0.895, time 6.9 sec\n--------------------\nepoch 23, loss 0.0383, train acc 1.000, test acc 0.889, time 7.5 sec\n--------------------\nepoch 24, loss 0.0333, train acc 1.000, test acc 0.889, time 7.1 sec\n--------------------\nepoch 25, loss 0.0289, train acc 1.000, test acc 0.889, time 7.2 sec\n--------------------\nepoch 26, loss 0.0251, train acc 1.000, test acc 0.895, time 7.1 sec\n--------------------\nepoch 27, loss 0.0220, train acc 1.000, test acc 0.895, time 7.4 sec\n--------------------\nepoch 28, loss 0.0195, train acc 1.000, test acc 0.895, time 6.9 sec\n--------------------\nepoch 29, loss 0.0175, train acc 1.000, test acc 0.895, time 7.2 sec\n--------------------\nepoch 30, loss 0.0160, train acc 1.000, test acc 0.895, time 6.9 sec\n--------------------\nepoch 31, loss 0.0147, train acc 1.000, test acc 0.895, time 7.3 sec\n--------------------\nepoch 32, loss 0.0136, train acc 1.000, test acc 0.895, time 7.2 sec\n--------------------\nepoch 33, loss 0.0127, train acc 1.000, test acc 0.895, time 7.0 sec\n--------------------\nepoch 34, loss 0.0119, train acc 1.000, test acc 0.895, time 7.0 sec\n--------------------\nepoch 35, loss 0.0112, train acc 1.000, test acc 0.895, time 7.0 sec\n--------------------\nepoch 36, loss 0.0106, train acc 1.000, test acc 0.895, time 7.3 sec\n--------------------\nepoch 37, loss 0.0101, train acc 1.000, test acc 0.895, time 7.2 sec\n--------------------\nepoch 38, loss 0.0096, train acc 1.000, test acc 0.895, time 7.0 sec\n--------------------\nepoch 39, loss 0.0091, train acc 1.000, test acc 0.895, time 6.9 sec\n--------------------\nepoch 40, loss 0.0087, train acc 1.000, test acc 0.889, time 7.4 sec\n--------------------\nepoch 41, loss 0.0084, train acc 1.000, test acc 0.889, time 7.1 sec\n--------------------\nepoch 42, loss 0.0080, train acc 1.000, test acc 0.889, time 7.1 sec\n--------------------\nepoch 43, loss 0.0077, train acc 1.000, test acc 0.889, time 7.1 sec\n--------------------\nepoch 44, loss 0.0074, train acc 1.000, test acc 0.889, time 7.1 sec\n--------------------\nepoch 45, loss 0.0071, train acc 1.000, test acc 0.889, time 7.4 sec\n--------------------\nepoch 46, loss 0.0068, train acc 1.000, test acc 0.889, time 7.1 sec\n--------------------\nepoch 47, loss 0.0065, train acc 1.000, test acc 0.889, time 7.0 sec\n--------------------\nepoch 48, loss 0.0063, train acc 1.000, test acc 0.889, time 7.0 sec\n--------------------\nepoch 49, loss 0.0061, train acc 1.000, test acc 0.882, time 7.4 sec\n--------------------\nepoch 50, loss 0.0058, train acc 1.000, test acc 0.882, time 7.1 sec\n",
          "output_type": "stream"
        }
      ]
    },
    {
      "cell_type": "markdown",
      "source": [
        "## Loss compare\n",
        "\n"
      ],
      "metadata": {
        "id": "Qdxu1cVVYfNo"
      }
    },
    {
      "cell_type": "code",
      "source": [
        "import pandas as pd"
      ],
      "metadata": {
        "execution": {
          "iopub.status.busy": "2023-05-01T12:45:03.234057Z",
          "iopub.execute_input": "2023-05-01T12:45:03.235429Z",
          "iopub.status.idle": "2023-05-01T12:45:03.240214Z",
          "shell.execute_reply.started": "2023-05-01T12:45:03.235387Z",
          "shell.execute_reply": "2023-05-01T12:45:03.239108Z"
        },
        "trusted": true,
        "id": "OigK5mZlYfNo"
      },
      "execution_count": null,
      "outputs": []
    },
    {
      "cell_type": "code",
      "source": [
        "data = [loss_rn18, loss_vgg16, loss_iv3, loss_dn] \n",
        "columns = ['Rn18', 'VGG16', 'IV3', 'DN161'] \n",
        "df = pd.DataFrame(data, columns) \n",
        "print(df)"
      ],
      "metadata": {
        "execution": {
          "iopub.status.busy": "2023-05-01T12:54:18.551751Z",
          "iopub.execute_input": "2023-05-01T12:54:18.552100Z",
          "iopub.status.idle": "2023-05-01T12:54:18.569611Z",
          "shell.execute_reply.started": "2023-05-01T12:54:18.552062Z",
          "shell.execute_reply": "2023-05-01T12:54:18.568412Z"
        },
        "trusted": true,
        "id": "5mau2JS8YfNo",
        "outputId": "60fd4da9-eb40-4af5-98af-d7a62a6a1e98"
      },
      "execution_count": null,
      "outputs": [
        {
          "name": "stdout",
          "text": "               0           1           2           3           4           5   \\\nRn18   236.831179  859.926310  464.465327  260.580550  177.052047  134.392575   \nVGG16  349.255499  665.863910  196.999362   99.089470   63.002495   45.901000   \nIV3    275.767786  778.816193  479.983364  300.861796  204.648105  135.485961   \nDN161  248.437378  954.006353  451.287361  233.682808  123.688434   78.395890   \n\n               6          7          8          9   ...         40         41  \\\nRn18   111.895554  98.162074  88.509186  81.025123  ...  13.429202  12.513911   \nVGG16   35.583642  28.383970  23.085154  19.160355  ...   0.843555   0.808153   \nIV3     95.688781  75.205246  62.660937  53.531170  ...   3.050430   2.863726   \nDN161   60.748723  51.702898  45.278765  40.177705  ...   2.037760   1.950984   \n\n              42         43        44        45        46        47        48  \\\nRn18   11.631009  10.778053  9.953800  9.158625  8.394855  7.666903  6.981118   \nVGG16   0.774688   0.743018  0.713011  0.684551  0.657529  0.631852  0.607426   \nIV3     2.698951   2.552197  2.420405  2.301164  2.192554  2.093041  2.001379   \nDN161   1.870068   1.794339  1.723232  1.656276  1.593069  1.533268  1.476574   \n\n             49  \nRn18   6.345104  \nVGG16  0.584178  \nIV3    1.916548  \nDN161  1.422730  \n\n[4 rows x 50 columns]\n",
          "output_type": "stream"
        }
      ]
    }
  ]
}