{
  "nbformat": 4,
  "nbformat_minor": 0,
  "metadata": {
    "colab": {
      "provenance": []
    },
    "kernelspec": {
      "name": "python3",
      "display_name": "Python 3"
    },
    "language_info": {
      "name": "python"
    }
  },
  "cells": [
    {
      "cell_type": "markdown",
      "source": [
        "##Чтение библиотек"
      ],
      "metadata": {
        "id": "seZWHPMvnTan"
      }
    },
    {
      "cell_type": "code",
      "execution_count": null,
      "metadata": {
        "id": "Tig4ZjApIah5"
      },
      "outputs": [],
      "source": [
        "import pandas as pd\n",
        "from sklearn.model_selection import train_test_split\n",
        "import torch\n",
        "from torch.utils.data import TensorDataset, DataLoader\n"
      ]
    },
    {
      "cell_type": "code",
      "source": [
        "batch_size = 10"
      ],
      "metadata": {
        "id": "b4s0cCCLUoDR"
      },
      "execution_count": null,
      "outputs": []
    },
    {
      "cell_type": "markdown",
      "source": [
        "# Чтение данных\n",
        "\n",
        "Предложенные данные (https://www.kaggle.com/datasets/vikrishnan/boston-house-prices) не имеют заголовков. Их нужно создать. Так как в задаче не требуется изучить природу данных, то достаточно создать стандартные заголовки, а также определить таргет."
      ],
      "metadata": {
        "id": "jsXCl26Kna6r"
      }
    },
    {
      "cell_type": "code",
      "source": [
        "df = pd.read_csv('housing.csv',header=None, delimiter=r\"\\s+\",names=[f'col{i}' for i in range (13)] + ['tg'])\n",
        "\n",
        "df.head(5)"
      ],
      "metadata": {
        "colab": {
          "base_uri": "https://localhost:8080/",
          "height": 206
        },
        "id": "yZJhw-6zKRY7",
        "outputId": "0ce4224e-b062-42ed-b01c-b4741485248d"
      },
      "execution_count": null,
      "outputs": [
        {
          "output_type": "execute_result",
          "data": {
            "text/plain": [
              "      col0  col1  col2  col3   col4   col5  col6    col7  col8   col9  col10  \\\n",
              "0  0.00632  18.0  2.31     0  0.538  6.575  65.2  4.0900     1  296.0   15.3   \n",
              "1  0.02731   0.0  7.07     0  0.469  6.421  78.9  4.9671     2  242.0   17.8   \n",
              "2  0.02729   0.0  7.07     0  0.469  7.185  61.1  4.9671     2  242.0   17.8   \n",
              "3  0.03237   0.0  2.18     0  0.458  6.998  45.8  6.0622     3  222.0   18.7   \n",
              "4  0.06905   0.0  2.18     0  0.458  7.147  54.2  6.0622     3  222.0   18.7   \n",
              "\n",
              "    col11  col12    tg  \n",
              "0  396.90   4.98  24.0  \n",
              "1  396.90   9.14  21.6  \n",
              "2  392.83   4.03  34.7  \n",
              "3  394.63   2.94  33.4  \n",
              "4  396.90   5.33  36.2  "
            ],
            "text/html": [
              "\n",
              "  <div id=\"df-6e3fd3b4-b6ef-4eac-bea4-c7ed4fd742d9\">\n",
              "    <div class=\"colab-df-container\">\n",
              "      <div>\n",
              "<style scoped>\n",
              "    .dataframe tbody tr th:only-of-type {\n",
              "        vertical-align: middle;\n",
              "    }\n",
              "\n",
              "    .dataframe tbody tr th {\n",
              "        vertical-align: top;\n",
              "    }\n",
              "\n",
              "    .dataframe thead th {\n",
              "        text-align: right;\n",
              "    }\n",
              "</style>\n",
              "<table border=\"1\" class=\"dataframe\">\n",
              "  <thead>\n",
              "    <tr style=\"text-align: right;\">\n",
              "      <th></th>\n",
              "      <th>col0</th>\n",
              "      <th>col1</th>\n",
              "      <th>col2</th>\n",
              "      <th>col3</th>\n",
              "      <th>col4</th>\n",
              "      <th>col5</th>\n",
              "      <th>col6</th>\n",
              "      <th>col7</th>\n",
              "      <th>col8</th>\n",
              "      <th>col9</th>\n",
              "      <th>col10</th>\n",
              "      <th>col11</th>\n",
              "      <th>col12</th>\n",
              "      <th>tg</th>\n",
              "    </tr>\n",
              "  </thead>\n",
              "  <tbody>\n",
              "    <tr>\n",
              "      <th>0</th>\n",
              "      <td>0.00632</td>\n",
              "      <td>18.0</td>\n",
              "      <td>2.31</td>\n",
              "      <td>0</td>\n",
              "      <td>0.538</td>\n",
              "      <td>6.575</td>\n",
              "      <td>65.2</td>\n",
              "      <td>4.0900</td>\n",
              "      <td>1</td>\n",
              "      <td>296.0</td>\n",
              "      <td>15.3</td>\n",
              "      <td>396.90</td>\n",
              "      <td>4.98</td>\n",
              "      <td>24.0</td>\n",
              "    </tr>\n",
              "    <tr>\n",
              "      <th>1</th>\n",
              "      <td>0.02731</td>\n",
              "      <td>0.0</td>\n",
              "      <td>7.07</td>\n",
              "      <td>0</td>\n",
              "      <td>0.469</td>\n",
              "      <td>6.421</td>\n",
              "      <td>78.9</td>\n",
              "      <td>4.9671</td>\n",
              "      <td>2</td>\n",
              "      <td>242.0</td>\n",
              "      <td>17.8</td>\n",
              "      <td>396.90</td>\n",
              "      <td>9.14</td>\n",
              "      <td>21.6</td>\n",
              "    </tr>\n",
              "    <tr>\n",
              "      <th>2</th>\n",
              "      <td>0.02729</td>\n",
              "      <td>0.0</td>\n",
              "      <td>7.07</td>\n",
              "      <td>0</td>\n",
              "      <td>0.469</td>\n",
              "      <td>7.185</td>\n",
              "      <td>61.1</td>\n",
              "      <td>4.9671</td>\n",
              "      <td>2</td>\n",
              "      <td>242.0</td>\n",
              "      <td>17.8</td>\n",
              "      <td>392.83</td>\n",
              "      <td>4.03</td>\n",
              "      <td>34.7</td>\n",
              "    </tr>\n",
              "    <tr>\n",
              "      <th>3</th>\n",
              "      <td>0.03237</td>\n",
              "      <td>0.0</td>\n",
              "      <td>2.18</td>\n",
              "      <td>0</td>\n",
              "      <td>0.458</td>\n",
              "      <td>6.998</td>\n",
              "      <td>45.8</td>\n",
              "      <td>6.0622</td>\n",
              "      <td>3</td>\n",
              "      <td>222.0</td>\n",
              "      <td>18.7</td>\n",
              "      <td>394.63</td>\n",
              "      <td>2.94</td>\n",
              "      <td>33.4</td>\n",
              "    </tr>\n",
              "    <tr>\n",
              "      <th>4</th>\n",
              "      <td>0.06905</td>\n",
              "      <td>0.0</td>\n",
              "      <td>2.18</td>\n",
              "      <td>0</td>\n",
              "      <td>0.458</td>\n",
              "      <td>7.147</td>\n",
              "      <td>54.2</td>\n",
              "      <td>6.0622</td>\n",
              "      <td>3</td>\n",
              "      <td>222.0</td>\n",
              "      <td>18.7</td>\n",
              "      <td>396.90</td>\n",
              "      <td>5.33</td>\n",
              "      <td>36.2</td>\n",
              "    </tr>\n",
              "  </tbody>\n",
              "</table>\n",
              "</div>\n",
              "      <button class=\"colab-df-convert\" onclick=\"convertToInteractive('df-6e3fd3b4-b6ef-4eac-bea4-c7ed4fd742d9')\"\n",
              "              title=\"Convert this dataframe to an interactive table.\"\n",
              "              style=\"display:none;\">\n",
              "        \n",
              "  <svg xmlns=\"http://www.w3.org/2000/svg\" height=\"24px\"viewBox=\"0 0 24 24\"\n",
              "       width=\"24px\">\n",
              "    <path d=\"M0 0h24v24H0V0z\" fill=\"none\"/>\n",
              "    <path d=\"M18.56 5.44l.94 2.06.94-2.06 2.06-.94-2.06-.94-.94-2.06-.94 2.06-2.06.94zm-11 1L8.5 8.5l.94-2.06 2.06-.94-2.06-.94L8.5 2.5l-.94 2.06-2.06.94zm10 10l.94 2.06.94-2.06 2.06-.94-2.06-.94-.94-2.06-.94 2.06-2.06.94z\"/><path d=\"M17.41 7.96l-1.37-1.37c-.4-.4-.92-.59-1.43-.59-.52 0-1.04.2-1.43.59L10.3 9.45l-7.72 7.72c-.78.78-.78 2.05 0 2.83L4 21.41c.39.39.9.59 1.41.59.51 0 1.02-.2 1.41-.59l7.78-7.78 2.81-2.81c.8-.78.8-2.07 0-2.86zM5.41 20L4 18.59l7.72-7.72 1.47 1.35L5.41 20z\"/>\n",
              "  </svg>\n",
              "      </button>\n",
              "      \n",
              "  <style>\n",
              "    .colab-df-container {\n",
              "      display:flex;\n",
              "      flex-wrap:wrap;\n",
              "      gap: 12px;\n",
              "    }\n",
              "\n",
              "    .colab-df-convert {\n",
              "      background-color: #E8F0FE;\n",
              "      border: none;\n",
              "      border-radius: 50%;\n",
              "      cursor: pointer;\n",
              "      display: none;\n",
              "      fill: #1967D2;\n",
              "      height: 32px;\n",
              "      padding: 0 0 0 0;\n",
              "      width: 32px;\n",
              "    }\n",
              "\n",
              "    .colab-df-convert:hover {\n",
              "      background-color: #E2EBFA;\n",
              "      box-shadow: 0px 1px 2px rgba(60, 64, 67, 0.3), 0px 1px 3px 1px rgba(60, 64, 67, 0.15);\n",
              "      fill: #174EA6;\n",
              "    }\n",
              "\n",
              "    [theme=dark] .colab-df-convert {\n",
              "      background-color: #3B4455;\n",
              "      fill: #D2E3FC;\n",
              "    }\n",
              "\n",
              "    [theme=dark] .colab-df-convert:hover {\n",
              "      background-color: #434B5C;\n",
              "      box-shadow: 0px 1px 3px 1px rgba(0, 0, 0, 0.15);\n",
              "      filter: drop-shadow(0px 1px 2px rgba(0, 0, 0, 0.3));\n",
              "      fill: #FFFFFF;\n",
              "    }\n",
              "  </style>\n",
              "\n",
              "      <script>\n",
              "        const buttonEl =\n",
              "          document.querySelector('#df-6e3fd3b4-b6ef-4eac-bea4-c7ed4fd742d9 button.colab-df-convert');\n",
              "        buttonEl.style.display =\n",
              "          google.colab.kernel.accessAllowed ? 'block' : 'none';\n",
              "\n",
              "        async function convertToInteractive(key) {\n",
              "          const element = document.querySelector('#df-6e3fd3b4-b6ef-4eac-bea4-c7ed4fd742d9');\n",
              "          const dataTable =\n",
              "            await google.colab.kernel.invokeFunction('convertToInteractive',\n",
              "                                                     [key], {});\n",
              "          if (!dataTable) return;\n",
              "\n",
              "          const docLinkHtml = 'Like what you see? Visit the ' +\n",
              "            '<a target=\"_blank\" href=https://colab.research.google.com/notebooks/data_table.ipynb>data table notebook</a>'\n",
              "            + ' to learn more about interactive tables.';\n",
              "          element.innerHTML = '';\n",
              "          dataTable['output_type'] = 'display_data';\n",
              "          await google.colab.output.renderOutput(dataTable, element);\n",
              "          const docLink = document.createElement('div');\n",
              "          docLink.innerHTML = docLinkHtml;\n",
              "          element.appendChild(docLink);\n",
              "        }\n",
              "      </script>\n",
              "    </div>\n",
              "  </div>\n",
              "  "
            ]
          },
          "metadata": {},
          "execution_count": 319
        }
      ]
    },
    {
      "cell_type": "markdown",
      "source": [
        "Проверим размер."
      ],
      "metadata": {
        "id": "nD_0aXJ2qvWi"
      }
    },
    {
      "cell_type": "code",
      "source": [
        "df.shape"
      ],
      "metadata": {
        "colab": {
          "base_uri": "https://localhost:8080/"
        },
        "id": "soT9AwHJLv8E",
        "outputId": "7f2a78eb-6465-41a0-8a51-e30e42411f82"
      },
      "execution_count": null,
      "outputs": [
        {
          "output_type": "execute_result",
          "data": {
            "text/plain": [
              "(506, 14)"
            ]
          },
          "metadata": {},
          "execution_count": 52
        }
      ]
    },
    {
      "cell_type": "markdown",
      "source": [
        "Создадим служебный фрейм для того, чтобы разбить данные на тренировочные и тестовые выборки и разобъём их на части."
      ],
      "metadata": {
        "id": "ev2a8zocqw4e"
      }
    },
    {
      "cell_type": "code",
      "source": [
        "df_wotg = df.drop('tg', axis=1)"
      ],
      "metadata": {
        "id": "UiccydddT_9m"
      },
      "execution_count": null,
      "outputs": []
    },
    {
      "cell_type": "code",
      "source": [
        "x_train, x_test, y_train, y_test  = train_test_split(df_wotg, df['tg'], test_size=0.2)"
      ],
      "metadata": {
        "id": "pu848wFdP3it"
      },
      "execution_count": null,
      "outputs": []
    },
    {
      "cell_type": "code",
      "source": [
        "print(x_train.shape)\n",
        "print(x_test.shape)\n",
        "\n",
        "print(y_train.shape)\n",
        "print(y_test.shape)"
      ],
      "metadata": {
        "colab": {
          "base_uri": "https://localhost:8080/"
        },
        "id": "ST9kwKP_P81k",
        "outputId": "15618716-dfb2-452b-e95b-3595e213e5e7"
      },
      "execution_count": null,
      "outputs": [
        {
          "output_type": "stream",
          "name": "stdout",
          "text": [
            "(404, 13)\n",
            "(102, 13)\n",
            "(404,)\n",
            "(102,)\n"
          ]
        }
      ]
    },
    {
      "cell_type": "markdown",
      "source": [
        "Изменим тип данных на тензор. Для тренировочного набора признаков зададим необходимость считать градиент."
      ],
      "metadata": {
        "id": "JGp8edo1q4mf"
      }
    },
    {
      "cell_type": "code",
      "source": [
        "x_train_tensor = torch.tensor(x_train.values, dtype=torch.float32, requires_grad = True)\n",
        "x_train_tensor.shape"
      ],
      "metadata": {
        "colab": {
          "base_uri": "https://localhost:8080/"
        },
        "id": "cHTonRI1XRdQ",
        "outputId": "c95f607b-e826-42ad-be45-3035d6ecb1fd"
      },
      "execution_count": null,
      "outputs": [
        {
          "output_type": "execute_result",
          "data": {
            "text/plain": [
              "torch.Size([404, 13])"
            ]
          },
          "metadata": {},
          "execution_count": 284
        }
      ]
    },
    {
      "cell_type": "code",
      "source": [
        "y_train_tensor = torch.tensor(y_train.values, dtype=torch.float32)\n",
        "y_train_tensor.shape"
      ],
      "metadata": {
        "colab": {
          "base_uri": "https://localhost:8080/"
        },
        "id": "_6uBQNW3UOXG",
        "outputId": "f5a97e98-9d96-47fe-fd50-00a08b937e34"
      },
      "execution_count": null,
      "outputs": [
        {
          "output_type": "execute_result",
          "data": {
            "text/plain": [
              "torch.Size([404])"
            ]
          },
          "metadata": {},
          "execution_count": 285
        }
      ]
    },
    {
      "cell_type": "code",
      "source": [
        "x_test_tensor = torch.tensor(x_test.values, dtype=torch.float32)\n",
        "x_test_tensor.shape"
      ],
      "metadata": {
        "colab": {
          "base_uri": "https://localhost:8080/"
        },
        "id": "7GDOeeDCihS2",
        "outputId": "d768f14f-4256-4d24-9a67-dfc6dfd97af0"
      },
      "execution_count": null,
      "outputs": [
        {
          "output_type": "execute_result",
          "data": {
            "text/plain": [
              "torch.Size([102, 13])"
            ]
          },
          "metadata": {},
          "execution_count": 287
        }
      ]
    },
    {
      "cell_type": "code",
      "source": [
        "y_test_tensor = torch.tensor(y_test.values, dtype=torch.float32)\n",
        "y_test_tensor.shape"
      ],
      "metadata": {
        "colab": {
          "base_uri": "https://localhost:8080/"
        },
        "id": "lJzCgTTuiymR",
        "outputId": "b86466f1-236a-4a4f-dec4-6c0e094439e1"
      },
      "execution_count": null,
      "outputs": [
        {
          "output_type": "execute_result",
          "data": {
            "text/plain": [
              "torch.Size([102])"
            ]
          },
          "metadata": {},
          "execution_count": 288
        }
      ]
    },
    {
      "cell_type": "markdown",
      "source": [
        "# Создание модели\n",
        "Создадим dataset и создадим dataloader."
      ],
      "metadata": {
        "id": "a6kgnKt5rFhk"
      }
    },
    {
      "cell_type": "code",
      "source": [
        "dataset = TensorDataset(x_train_tensor, y_train_tensor)\n",
        "data_iter = DataLoader(dataset, batch_size, shuffle=True)\n",
        "\n",
        "for X, y in data_iter:\n",
        "    print(X, y)\n",
        "    break"
      ],
      "metadata": {
        "colab": {
          "base_uri": "https://localhost:8080/"
        },
        "id": "q_7MPyxdXWZZ",
        "outputId": "ff056e93-1a6b-431e-b53e-25c78bb3e5a1"
      },
      "execution_count": null,
      "outputs": [
        {
          "output_type": "stream",
          "name": "stdout",
          "text": [
            "tensor([[4.3571e-01, 0.0000e+00, 1.0590e+01, 1.0000e+00, 4.8900e-01, 5.3440e+00,\n",
            "         1.0000e+02, 3.8750e+00, 4.0000e+00, 2.7700e+02, 1.8600e+01, 3.9690e+02,\n",
            "         2.3090e+01],\n",
            "        [4.3790e-02, 8.0000e+01, 3.3700e+00, 0.0000e+00, 3.9800e-01, 5.7870e+00,\n",
            "         3.1100e+01, 6.6115e+00, 4.0000e+00, 3.3700e+02, 1.6100e+01, 3.9690e+02,\n",
            "         1.0240e+01],\n",
            "        [4.8357e+00, 0.0000e+00, 1.8100e+01, 0.0000e+00, 5.8300e-01, 5.9050e+00,\n",
            "         5.3200e+01, 3.1523e+00, 2.4000e+01, 6.6600e+02, 2.0200e+01, 3.8822e+02,\n",
            "         1.1450e+01],\n",
            "        [3.7662e+01, 0.0000e+00, 1.8100e+01, 0.0000e+00, 6.7900e-01, 6.2020e+00,\n",
            "         7.8700e+01, 1.8629e+00, 2.4000e+01, 6.6600e+02, 2.0200e+01, 1.8820e+01,\n",
            "         1.4520e+01],\n",
            "        [2.8656e+01, 0.0000e+00, 1.8100e+01, 0.0000e+00, 5.9700e-01, 5.1550e+00,\n",
            "         1.0000e+02, 1.5894e+00, 2.4000e+01, 6.6600e+02, 2.0200e+01, 2.1097e+02,\n",
            "         2.0080e+01],\n",
            "        [1.8085e+01, 0.0000e+00, 1.8100e+01, 0.0000e+00, 6.7900e-01, 6.4340e+00,\n",
            "         1.0000e+02, 1.8347e+00, 2.4000e+01, 6.6600e+02, 2.0200e+01, 2.7250e+01,\n",
            "         2.9050e+01],\n",
            "        [1.1517e+00, 0.0000e+00, 8.1400e+00, 0.0000e+00, 5.3800e-01, 5.7010e+00,\n",
            "         9.5000e+01, 3.7872e+00, 4.0000e+00, 3.0700e+02, 2.1000e+01, 3.5877e+02,\n",
            "         1.8350e+01],\n",
            "        [5.4970e-02, 0.0000e+00, 5.1900e+00, 0.0000e+00, 5.1500e-01, 5.9850e+00,\n",
            "         4.5400e+01, 4.8122e+00, 5.0000e+00, 2.2400e+02, 2.0200e+01, 3.9690e+02,\n",
            "         9.7400e+00],\n",
            "        [3.5233e-01, 0.0000e+00, 2.1890e+01, 0.0000e+00, 6.2400e-01, 6.4540e+00,\n",
            "         9.8400e+01, 1.8498e+00, 4.0000e+00, 4.3700e+02, 2.1200e+01, 3.9408e+02,\n",
            "         1.4590e+01],\n",
            "        [8.4470e-02, 0.0000e+00, 4.0500e+00, 0.0000e+00, 5.1000e-01, 5.8590e+00,\n",
            "         6.8700e+01, 2.7019e+00, 5.0000e+00, 2.9600e+02, 1.6600e+01, 3.9323e+02,\n",
            "         9.6400e+00]], grad_fn=<StackBackward0>) tensor([20.0000, 19.4000, 20.6000, 10.9000, 16.3000,  7.2000, 13.1000, 19.0000,\n",
            "        17.1000, 22.6000])\n"
          ]
        }
      ]
    },
    {
      "cell_type": "markdown",
      "source": [
        "Создадим простую модель. 13 входов - по числу входных данных."
      ],
      "metadata": {
        "id": "5zfaHr67rNBT"
      }
    },
    {
      "cell_type": "code",
      "source": [
        "model = torch.nn.Sequential(torch.nn.Linear(13, 1))"
      ],
      "metadata": {
        "id": "tBbPJdMiYABF"
      },
      "execution_count": null,
      "outputs": []
    },
    {
      "cell_type": "code",
      "source": [
        "model"
      ],
      "metadata": {
        "colab": {
          "base_uri": "https://localhost:8080/"
        },
        "id": "QWziI1lSYBpY",
        "outputId": "f7cc2630-80de-4360-df58-3158ce791c68"
      },
      "execution_count": null,
      "outputs": [
        {
          "output_type": "execute_result",
          "data": {
            "text/plain": [
              "Sequential(\n",
              "  (0): Linear(in_features=13, out_features=1, bias=True)\n",
              ")"
            ]
          },
          "metadata": {},
          "execution_count": 305
        }
      ]
    },
    {
      "cell_type": "code",
      "source": [
        "model[0].weight.data"
      ],
      "metadata": {
        "colab": {
          "base_uri": "https://localhost:8080/"
        },
        "id": "yKMbkl6hZAyD",
        "outputId": "c97bc262-01fb-4af1-859f-873263cdbb74"
      },
      "execution_count": null,
      "outputs": [
        {
          "output_type": "execute_result",
          "data": {
            "text/plain": [
              "tensor([[-0.2071,  0.1315,  0.1448,  0.1009,  0.2049, -0.1843, -0.1632, -0.0078,\n",
              "         -0.0763,  0.1656, -0.2515,  0.1225, -0.1468]])"
            ]
          },
          "metadata": {},
          "execution_count": 306
        }
      ]
    },
    {
      "cell_type": "code",
      "source": [
        "model[0].bias.data"
      ],
      "metadata": {
        "colab": {
          "base_uri": "https://localhost:8080/"
        },
        "id": "QX9POvP7ZGC0",
        "outputId": "e6b7fd08-1899-4e51-92cf-9f395c6d1c79"
      },
      "execution_count": null,
      "outputs": [
        {
          "output_type": "execute_result",
          "data": {
            "text/plain": [
              "tensor([0.1795])"
            ]
          },
          "metadata": {},
          "execution_count": 274
        }
      ]
    },
    {
      "cell_type": "code",
      "source": [
        "loss = torch.nn.MSELoss(reduction='mean')"
      ],
      "metadata": {
        "id": "3GUruVg-YFDa"
      },
      "execution_count": null,
      "outputs": []
    },
    {
      "cell_type": "code",
      "source": [
        "trainer = torch.optim.SGD(model.parameters(), lr=0.000001)"
      ],
      "metadata": {
        "id": "YumMrK8bYHJb"
      },
      "execution_count": null,
      "outputs": []
    },
    {
      "cell_type": "markdown",
      "source": [
        "#Обучение "
      ],
      "metadata": {
        "id": "q-AnYMC7rVhY"
      }
    },
    {
      "cell_type": "code",
      "source": [
        "num_epochs = 1000\n",
        "for epoch in range(1, num_epochs + 1):\n",
        "    for X, y in data_iter:\n",
        "        trainer.zero_grad()\n",
        "        l = loss(model(X).reshape(-1), y)\n",
        "        l.backward()\n",
        "        trainer.step()\n",
        "    l = loss(model(x_train_tensor).reshape(-1), y_train_tensor)\n",
        "    if epoch % 5 == 0:\n",
        "        print('epoch %d, loss: %f' % (epoch, l.item()),'|\\tw', model[0].weight.data, '|\\tb', model[0].bias.data)"
      ],
      "metadata": {
        "colab": {
          "base_uri": "https://localhost:8080/"
        },
        "id": "6YniDXczYKUh",
        "outputId": "04258d13-7edc-4ac8-9c0b-5580a0964406"
      },
      "execution_count": null,
      "outputs": [
        {
          "output_type": "stream",
          "name": "stdout",
          "text": [
            "epoch 5, loss: 112.890488 |\tw tensor([[-0.2078,  0.1139,  0.1430,  0.1011,  0.2050, -0.1817, -0.1225, -0.0094,\n",
            "         -0.0800,  0.0363, -0.2508,  0.0717, -0.1510]]) |\tb tensor([-0.1937])\n",
            "epoch 10, loss: 89.412712 |\tw tensor([[-0.2069,  0.1050,  0.1431,  0.1013,  0.2052, -0.1783, -0.0823, -0.0101,\n",
            "         -0.0800,  0.0226, -0.2475,  0.0645, -0.1543]]) |\tb tensor([-0.1934])\n",
            "epoch 15, loss: 82.144997 |\tw tensor([[-0.2062,  0.1002,  0.1427,  0.1015,  0.2053, -0.1747, -0.0506, -0.0103,\n",
            "         -0.0799,  0.0218, -0.2438,  0.0655, -0.1580]]) |\tb tensor([-0.1931])\n",
            "epoch 20, loss: 144.483353 |\tw tensor([[-0.2059,  0.0994,  0.1411,  0.1016,  0.2055, -0.1713, -0.0290, -0.0103,\n",
            "         -0.0799,  0.0046, -0.2409,  0.0575, -0.1633]]) |\tb tensor([-0.1928])\n",
            "epoch 25, loss: 76.834068 |\tw tensor([[-0.2050,  0.1003,  0.1401,  0.1018,  0.2056, -0.1678, -0.0091, -0.0100,\n",
            "         -0.0790,  0.0164, -0.2373,  0.0616, -0.1684]]) |\tb tensor([-0.1924])\n",
            "epoch 30, loss: 82.706429 |\tw tensor([[-0.2045,  0.1031,  0.1384,  0.1020,  0.2058, -0.1644,  0.0059, -0.0096,\n",
            "         -0.0785,  0.0183, -0.2341,  0.0644, -0.1742]]) |\tb tensor([-0.1921])\n",
            "epoch 35, loss: 91.253593 |\tw tensor([[-0.2042,  0.1059,  0.1361,  0.1021,  0.2059, -0.1612,  0.0158, -0.0092,\n",
            "         -0.0783,  0.0052, -0.2316,  0.0592, -0.1806]]) |\tb tensor([-0.1918])\n",
            "epoch 40, loss: 82.138405 |\tw tensor([[-0.2035,  0.1082,  0.1345,  0.1023,  0.2060, -0.1578,  0.0273, -0.0088,\n",
            "         -0.0772,  0.0170, -0.2285,  0.0623, -0.1866]]) |\tb tensor([-0.1915])\n",
            "epoch 45, loss: 73.503120 |\tw tensor([[-0.2030,  0.1108,  0.1322,  0.1024,  0.2061, -0.1547,  0.0352, -0.0085,\n",
            "         -0.0764,  0.0140, -0.2258,  0.0579, -0.1931]]) |\tb tensor([-0.1913])\n",
            "epoch 50, loss: 78.339134 |\tw tensor([[-0.2025,  0.1143,  0.1300,  0.1026,  0.2062, -0.1514,  0.0422, -0.0079,\n",
            "         -0.0756,  0.0149, -0.2229,  0.0606, -0.1994]]) |\tb tensor([-0.1910])\n",
            "epoch 55, loss: 98.083000 |\tw tensor([[-0.2021,  0.1170,  0.1278,  0.1027,  0.2063, -0.1482,  0.0483, -0.0074,\n",
            "         -0.0745,  0.0187, -0.2201,  0.0622, -0.2058]]) |\tb tensor([-0.1907])\n",
            "epoch 60, loss: 71.790253 |\tw tensor([[-0.2021,  0.1198,  0.1253,  0.1029,  0.2064, -0.1452,  0.0510, -0.0070,\n",
            "         -0.0740,  0.0103, -0.2179,  0.0559, -0.2126]]) |\tb tensor([-0.1904])\n",
            "epoch 65, loss: 132.904541 |\tw tensor([[-0.2018,  0.1222,  0.1227,  0.1030,  0.2065, -0.1422,  0.0523, -0.0065,\n",
            "         -0.0733, -0.0004, -0.2157,  0.0481, -0.2194]]) |\tb tensor([-0.1902])\n",
            "epoch 70, loss: 77.806526 |\tw tensor([[-0.2012,  0.1253,  0.1205,  0.1032,  0.2066, -0.1390,  0.0569, -0.0059,\n",
            "         -0.0723,  0.0051, -0.2128,  0.0552, -0.2256]]) |\tb tensor([-0.1899])\n",
            "epoch 75, loss: 71.621605 |\tw tensor([[-0.2011,  0.1277,  0.1183,  0.1033,  0.2067, -0.1359,  0.0607, -0.0053,\n",
            "         -0.0713,  0.0106, -0.2098,  0.0587, -0.2319]]) |\tb tensor([-0.1896])\n",
            "epoch 80, loss: 71.355934 |\tw tensor([[-0.2001,  0.1295,  0.1160,  0.1034,  0.2068, -0.1329,  0.0627, -0.0049,\n",
            "         -0.0704,  0.0092, -0.2074,  0.0533, -0.2383]]) |\tb tensor([-0.1894])\n",
            "epoch 85, loss: 75.095383 |\tw tensor([[-0.1997,  0.1309,  0.1137,  0.1036,  0.2069, -0.1298,  0.0648, -0.0044,\n",
            "         -0.0695,  0.0083, -0.2049,  0.0509, -0.2447]]) |\tb tensor([-0.1891])\n",
            "epoch 90, loss: 71.555809 |\tw tensor([[-0.1989,  0.1321,  0.1117,  0.1037,  0.2070, -0.1267,  0.0678, -0.0039,\n",
            "         -0.0685,  0.0128, -0.2022,  0.0556, -0.2510]]) |\tb tensor([-0.1888])\n",
            "epoch 95, loss: 71.214531 |\tw tensor([[-0.1985,  0.1331,  0.1094,  0.1039,  0.2070, -0.1238,  0.0690, -0.0035,\n",
            "         -0.0678,  0.0078, -0.1999,  0.0530, -0.2575]]) |\tb tensor([-0.1886])\n",
            "epoch 100, loss: 77.025200 |\tw tensor([[-0.1982,  0.1342,  0.1071,  0.1040,  0.2071, -0.1208,  0.0702, -0.0030,\n",
            "         -0.0672,  0.0035, -0.1975,  0.0542, -0.2639]]) |\tb tensor([-0.1883])\n",
            "epoch 105, loss: 71.670471 |\tw tensor([[-0.1979,  0.1355,  0.1050,  0.1042,  0.2072, -0.1178,  0.0713, -0.0026,\n",
            "         -0.0662,  0.0063, -0.1950,  0.0536, -0.2701]]) |\tb tensor([-0.1880])\n",
            "epoch 110, loss: 72.531944 |\tw tensor([[-0.1973,  0.1361,  0.1029,  0.1043,  0.2073, -0.1149,  0.0728, -0.0022,\n",
            "         -0.0655,  0.0037, -0.1925,  0.0559, -0.2762]]) |\tb tensor([-0.1878])\n",
            "epoch 115, loss: 67.847511 |\tw tensor([[-0.1966,  0.1368,  0.1010,  0.1044,  0.2074, -0.1118,  0.0755, -0.0017,\n",
            "         -0.0645,  0.0091, -0.1898,  0.0558, -0.2820]]) |\tb tensor([-0.1875])\n",
            "epoch 120, loss: 73.138130 |\tw tensor([[-0.1963,  0.1368,  0.0990,  0.1046,  0.2075, -0.1089,  0.0762, -0.0013,\n",
            "         -0.0638,  0.0049, -0.1874,  0.0529, -0.2880]]) |\tb tensor([-0.1873])\n",
            "epoch 125, loss: 68.184944 |\tw tensor([[-0.1956,  0.1370,  0.0973,  0.1047,  0.2076, -0.1060,  0.0789, -0.0009,\n",
            "         -0.0627,  0.0115, -0.1848,  0.0539, -0.2935]]) |\tb tensor([-0.1870])\n",
            "epoch 130, loss: 114.683907 |\tw tensor([[-0.1949,  0.1371,  0.0956,  0.1049,  0.2077, -0.1030,  0.0812, -0.0004,\n",
            "         -0.0616,  0.0187, -0.1820,  0.0615, -0.2992]]) |\tb tensor([-0.1867])\n",
            "epoch 135, loss: 66.978310 |\tw tensor([[-1.9482e-01,  1.3705e-01,  9.3384e-02,  1.0499e-01,  2.0777e-01,\n",
            "         -1.0017e-01,  8.0551e-02, -6.6654e-05, -6.0962e-02,  1.1492e-02,\n",
            "         -1.7996e-01,  5.1913e-02, -3.0533e-01]]) |\tb tensor([-0.1865])\n",
            "epoch 140, loss: 66.487907 |\tw tensor([[-0.1945,  0.1371,  0.0914,  0.1051,  0.2079, -0.0973,  0.0809,  0.0004,\n",
            "         -0.0603,  0.0079, -0.1776,  0.0543, -0.3113]]) |\tb tensor([-0.1862])\n",
            "epoch 145, loss: 66.126160 |\tw tensor([[-0.1940,  0.1369,  0.0897,  0.1053,  0.2079, -0.0944,  0.0825,  0.0007,\n",
            "         -0.0595,  0.0084, -0.1752,  0.0538, -0.3171]]) |\tb tensor([-0.1860])\n",
            "epoch 150, loss: 66.116890 |\tw tensor([[-0.1934,  0.1371,  0.0879,  0.1054,  0.2080, -0.0915,  0.0836,  0.0011,\n",
            "         -0.0586,  0.0110, -0.1727,  0.0511, -0.3225]]) |\tb tensor([-0.1857])\n",
            "epoch 155, loss: 67.397575 |\tw tensor([[-0.1932,  0.1369,  0.0862,  0.1056,  0.2081, -0.0885,  0.0849,  0.0015,\n",
            "         -0.0578,  0.0110, -0.1701,  0.0547, -0.3281]]) |\tb tensor([-0.1855])\n",
            "epoch 160, loss: 65.482666 |\tw tensor([[-0.1927,  0.1363,  0.0845,  0.1057,  0.2082, -0.0857,  0.0864,  0.0019,\n",
            "         -0.0572,  0.0101, -0.1676,  0.0517, -0.3334]]) |\tb tensor([-0.1852])\n",
            "epoch 165, loss: 65.115723 |\tw tensor([[-0.1923,  0.1368,  0.0827,  0.1058,  0.2083, -0.0828,  0.0868,  0.0023,\n",
            "         -0.0565,  0.0087, -0.1652,  0.0533, -0.3389]]) |\tb tensor([-0.1850])\n",
            "epoch 170, loss: 75.620903 |\tw tensor([[-0.1918,  0.1369,  0.0807,  0.1060,  0.2084, -0.0801,  0.0865,  0.0027,\n",
            "         -0.0559,  0.0033, -0.1630,  0.0509, -0.3446]]) |\tb tensor([-0.1847])\n",
            "epoch 175, loss: 70.343086 |\tw tensor([[-0.1914,  0.1370,  0.0790,  0.1061,  0.2085, -0.0772,  0.0871,  0.0031,\n",
            "         -0.0551,  0.0052, -0.1606,  0.0511, -0.3500]]) |\tb tensor([-0.1845])\n",
            "epoch 180, loss: 93.672127 |\tw tensor([[-0.1910,  0.1370,  0.0776,  0.1062,  0.2086, -0.0742,  0.0895,  0.0036,\n",
            "         -0.0540,  0.0171, -0.1577,  0.0582, -0.3550]]) |\tb tensor([-0.1842])\n",
            "epoch 185, loss: 71.850578 |\tw tensor([[-0.1905,  0.1372,  0.0758,  0.1064,  0.2087, -0.0714,  0.0898,  0.0040,\n",
            "         -0.0535,  0.0128, -0.1553,  0.0560, -0.3601]]) |\tb tensor([-0.1839])\n",
            "epoch 190, loss: 65.517693 |\tw tensor([[-0.1902,  0.1372,  0.0740,  0.1065,  0.2087, -0.0686,  0.0895,  0.0044,\n",
            "         -0.0530,  0.0057, -0.1531,  0.0535, -0.3655]]) |\tb tensor([-0.1837])\n",
            "epoch 195, loss: 64.787613 |\tw tensor([[-0.1896,  0.1366,  0.0725,  0.1066,  0.2088, -0.0658,  0.0908,  0.0047,\n",
            "         -0.0520,  0.0113, -0.1506,  0.0524, -0.3703]]) |\tb tensor([-0.1834])\n",
            "epoch 200, loss: 64.738037 |\tw tensor([[-0.1895,  0.1365,  0.0708,  0.1068,  0.2089, -0.0630,  0.0909,  0.0051,\n",
            "         -0.0517,  0.0051, -0.1484,  0.0549, -0.3755]]) |\tb tensor([-0.1832])\n",
            "epoch 205, loss: 66.194725 |\tw tensor([[-0.1890,  0.1358,  0.0695,  0.1069,  0.2090, -0.0601,  0.0927,  0.0056,\n",
            "         -0.0510,  0.0083, -0.1458,  0.0576, -0.3804]]) |\tb tensor([-0.1829])\n",
            "epoch 210, loss: 69.183029 |\tw tensor([[-0.1886,  0.1353,  0.0680,  0.1070,  0.2091, -0.0573,  0.0934,  0.0059,\n",
            "         -0.0500,  0.0114, -0.1434,  0.0561, -0.3852]]) |\tb tensor([-0.1827])\n",
            "epoch 215, loss: 71.681335 |\tw tensor([[-0.1878,  0.1350,  0.0666,  0.1072,  0.2092, -0.0545,  0.0942,  0.0063,\n",
            "         -0.0492,  0.0142, -0.1410,  0.0540, -0.3899]]) |\tb tensor([-0.1824])\n",
            "epoch 220, loss: 62.981152 |\tw tensor([[-0.1877,  0.1350,  0.0649,  0.1073,  0.2093, -0.0518,  0.0937,  0.0067,\n",
            "         -0.0489,  0.0070, -0.1387,  0.0537, -0.3948]]) |\tb tensor([-0.1822])\n",
            "epoch 225, loss: 62.705570 |\tw tensor([[-0.1871,  0.1348,  0.0636,  0.1074,  0.2094, -0.0490,  0.0948,  0.0069,\n",
            "         -0.0482,  0.0078, -0.1365,  0.0526, -0.3996]]) |\tb tensor([-0.1819])\n",
            "epoch 230, loss: 62.526001 |\tw tensor([[-0.1868,  0.1347,  0.0622,  0.1076,  0.2095, -0.0462,  0.0954,  0.0073,\n",
            "         -0.0476,  0.0078, -0.1342,  0.0525, -0.4042]]) |\tb tensor([-0.1817])\n",
            "epoch 235, loss: 63.964718 |\tw tensor([[-0.1862,  0.1346,  0.0608,  0.1077,  0.2096, -0.0434,  0.0964,  0.0077,\n",
            "         -0.0468,  0.0100, -0.1317,  0.0542, -0.4089]]) |\tb tensor([-0.1814])\n",
            "epoch 240, loss: 65.220543 |\tw tensor([[-0.1851,  0.1348,  0.0594,  0.1078,  0.2097, -0.0407,  0.0972,  0.0081,\n",
            "         -0.0461,  0.0108, -0.1294,  0.0545, -0.4133]]) |\tb tensor([-0.1812])\n",
            "epoch 245, loss: 67.456909 |\tw tensor([[-0.1842,  0.1344,  0.0581,  0.1079,  0.2098, -0.0379,  0.0985,  0.0084,\n",
            "         -0.0454,  0.0145, -0.1270,  0.0511, -0.4178]]) |\tb tensor([-0.1809])\n",
            "epoch 250, loss: 64.279289 |\tw tensor([[-0.1840,  0.1346,  0.0565,  0.1081,  0.2098, -0.0351,  0.0983,  0.0089,\n",
            "         -0.0449,  0.0113, -0.1245,  0.0532, -0.4224]]) |\tb tensor([-0.1807])\n",
            "epoch 255, loss: 64.401535 |\tw tensor([[-0.1837,  0.1343,  0.0549,  0.1082,  0.2099, -0.0324,  0.0979,  0.0092,\n",
            "         -0.0445,  0.0059, -0.1223,  0.0505, -0.4269]]) |\tb tensor([-0.1804])\n",
            "epoch 260, loss: 62.401203 |\tw tensor([[-0.1830,  0.1345,  0.0536,  0.1083,  0.2100, -0.0297,  0.0984,  0.0096,\n",
            "         -0.0438,  0.0062, -0.1200,  0.0520, -0.4314]]) |\tb tensor([-0.1802])\n",
            "epoch 265, loss: 61.236549 |\tw tensor([[-0.1824,  0.1345,  0.0524,  0.1085,  0.2101, -0.0270,  0.0993,  0.0100,\n",
            "         -0.0432,  0.0085, -0.1176,  0.0511, -0.4356]]) |\tb tensor([-0.1799])\n",
            "epoch 270, loss: 74.235779 |\tw tensor([[-0.1818,  0.1344,  0.0511,  0.1086,  0.2102, -0.0241,  0.1006,  0.0104,\n",
            "         -0.0426,  0.0124, -0.1151,  0.0572, -0.4397]]) |\tb tensor([-0.1796])\n",
            "epoch 275, loss: 61.120422 |\tw tensor([[-0.1812,  0.1342,  0.0498,  0.1087,  0.2103, -0.0215,  0.1007,  0.0107,\n",
            "         -0.0419,  0.0110, -0.1131,  0.0489, -0.4440]]) |\tb tensor([-0.1794])\n",
            "epoch 280, loss: 61.028549 |\tw tensor([[-0.1809,  0.1338,  0.0484,  0.1089,  0.2104, -0.0188,  0.1006,  0.0110,\n",
            "         -0.0416,  0.0074, -0.1109,  0.0514, -0.4486]]) |\tb tensor([-0.1792])\n",
            "epoch 285, loss: 60.958607 |\tw tensor([[-0.1802,  0.1334,  0.0471,  0.1090,  0.2105, -0.0160,  0.1018,  0.0114,\n",
            "         -0.0409,  0.0090, -0.1084,  0.0527, -0.4525]]) |\tb tensor([-0.1789])\n",
            "epoch 290, loss: 87.814270 |\tw tensor([[-0.1796,  0.1329,  0.0461,  0.1091,  0.2106, -0.0133,  0.1035,  0.0117,\n",
            "         -0.0401,  0.0159, -0.1059,  0.0569, -0.4564]]) |\tb tensor([-0.1787])\n",
            "epoch 295, loss: 96.549294 |\tw tensor([[-0.1795,  0.1324,  0.0445,  0.1092,  0.2107, -0.0107,  0.1016,  0.0120,\n",
            "         -0.0401, -0.0010, -0.1041,  0.0460, -0.4609]]) |\tb tensor([-0.1784])\n",
            "epoch 300, loss: 60.232132 |\tw tensor([[-0.1790,  0.1326,  0.0436,  0.1094,  0.2108, -0.0080,  0.1030,  0.0123,\n",
            "         -0.0393,  0.0074, -0.1016,  0.0514, -0.4651]]) |\tb tensor([-0.1782])\n",
            "epoch 305, loss: 63.456676 |\tw tensor([[-0.1783,  0.1325,  0.0425,  0.1095,  0.2109, -0.0052,  0.1039,  0.0127,\n",
            "         -0.0388,  0.0101, -0.0992,  0.0543, -0.4687]]) |\tb tensor([-0.1779])\n",
            "epoch 310, loss: 60.433796 |\tw tensor([[-0.1780,  0.1326,  0.0411,  0.1096,  0.2109, -0.0026,  0.1038,  0.0131,\n",
            "         -0.0384,  0.0060, -0.0969,  0.0521, -0.4727]]) |\tb tensor([-0.1777])\n",
            "epoch 315, loss: 79.945480 |\tw tensor([[-1.7755e-01,  1.3277e-01,  4.0187e-02,  1.0978e-01,  2.1104e-01,\n",
            "          1.2542e-04,  1.0481e-01,  1.3435e-02, -3.7716e-02,  1.3419e-02,\n",
            "         -9.4456e-02,  5.7530e-02, -4.7654e-01]]) |\tb tensor([-0.1774])\n",
            "epoch 320, loss: 59.772964 |\tw tensor([[-0.1769,  0.1324,  0.0389,  0.1099,  0.2111,  0.0026,  0.1039,  0.0137,\n",
            "         -0.0372,  0.0095, -0.0924,  0.0513, -0.4804]]) |\tb tensor([-0.1772])\n",
            "epoch 325, loss: 80.721146 |\tw tensor([[-0.1762,  0.1324,  0.0381,  0.1100,  0.2112,  0.0054,  0.1051,  0.0141,\n",
            "         -0.0367,  0.0139, -0.0899,  0.0572, -0.4841]]) |\tb tensor([-0.1769])\n",
            "epoch 330, loss: 70.022255 |\tw tensor([[-0.1756,  0.1317,  0.0371,  0.1102,  0.2113,  0.0080,  0.1063,  0.0143,\n",
            "         -0.0364,  0.0137, -0.0878,  0.0534, -0.4878]]) |\tb tensor([-0.1767])\n",
            "epoch 335, loss: 68.246849 |\tw tensor([[-0.1752,  0.1320,  0.0358,  0.1103,  0.2114,  0.0106,  0.1059,  0.0147,\n",
            "         -0.0359,  0.0117, -0.0856,  0.0552, -0.4916]]) |\tb tensor([-0.1764])\n",
            "epoch 340, loss: 59.556461 |\tw tensor([[-0.1746,  0.1318,  0.0346,  0.1104,  0.2115,  0.0131,  0.1052,  0.0149,\n",
            "         -0.0351,  0.0121, -0.0835,  0.0475, -0.4953]]) |\tb tensor([-0.1762])\n",
            "epoch 345, loss: 59.045918 |\tw tensor([[-0.1744,  0.1322,  0.0334,  0.1106,  0.2116,  0.0158,  0.1058,  0.0153,\n",
            "         -0.0348,  0.0091, -0.0813,  0.0511, -0.4990]]) |\tb tensor([-0.1760])\n",
            "epoch 350, loss: 58.816002 |\tw tensor([[-0.1739,  0.1321,  0.0323,  0.1107,  0.2117,  0.0184,  0.1061,  0.0156,\n",
            "         -0.0345,  0.0079, -0.0791,  0.0502, -0.5026]]) |\tb tensor([-0.1757])\n",
            "epoch 355, loss: 59.071774 |\tw tensor([[-0.1736,  0.1317,  0.0314,  0.1108,  0.2118,  0.0211,  0.1068,  0.0160,\n",
            "         -0.0342,  0.0070, -0.0768,  0.0502, -0.5061]]) |\tb tensor([-0.1755])\n",
            "epoch 360, loss: 59.861225 |\tw tensor([[-0.1732,  0.1313,  0.0304,  0.1110,  0.2118,  0.0236,  0.1074,  0.0163,\n",
            "         -0.0337,  0.0067, -0.0747,  0.0490, -0.5096]]) |\tb tensor([-0.1752])\n",
            "epoch 365, loss: 60.895439 |\tw tensor([[-0.1727,  0.1308,  0.0294,  0.1111,  0.2119,  0.0262,  0.1077,  0.0166,\n",
            "         -0.0333,  0.0071, -0.0725,  0.0473, -0.5129]]) |\tb tensor([-0.1750])\n",
            "epoch 370, loss: 60.745930 |\tw tensor([[-0.1722,  0.1308,  0.0285,  0.1112,  0.2120,  0.0288,  0.1087,  0.0169,\n",
            "         -0.0327,  0.0122, -0.0701,  0.0498, -0.5163]]) |\tb tensor([-0.1748])\n",
            "epoch 375, loss: 58.387051 |\tw tensor([[-0.1721,  0.1303,  0.0275,  0.1114,  0.2121,  0.0314,  0.1085,  0.0172,\n",
            "         -0.0326,  0.0071, -0.0680,  0.0501, -0.5196]]) |\tb tensor([-0.1745])\n",
            "epoch 380, loss: 64.013649 |\tw tensor([[-0.1714,  0.1297,  0.0266,  0.1115,  0.2122,  0.0340,  0.1094,  0.0175,\n",
            "         -0.0320,  0.0109, -0.0657,  0.0537, -0.5229]]) |\tb tensor([-0.1743])\n",
            "epoch 385, loss: 76.644241 |\tw tensor([[-0.1711,  0.1292,  0.0255,  0.1116,  0.2123,  0.0365,  0.1079,  0.0178,\n",
            "         -0.0318,  0.0010, -0.0638,  0.0470, -0.5264]]) |\tb tensor([-0.1740])\n",
            "epoch 390, loss: 65.513451 |\tw tensor([[-0.1704,  0.1288,  0.0249,  0.1117,  0.2124,  0.0391,  0.1099,  0.0181,\n",
            "         -0.0311,  0.0122, -0.0614,  0.0530, -0.5295]]) |\tb tensor([-0.1738])\n",
            "epoch 395, loss: 60.768524 |\tw tensor([[-0.1700,  0.1280,  0.0238,  0.1119,  0.2125,  0.0416,  0.1095,  0.0184,\n",
            "         -0.0308,  0.0065, -0.0594,  0.0470, -0.5327]]) |\tb tensor([-0.1736])\n",
            "epoch 400, loss: 82.111107 |\tw tensor([[-0.1694,  0.1283,  0.0231,  0.1120,  0.2126,  0.0444,  0.1121,  0.0188,\n",
            "         -0.0303,  0.0148, -0.0568,  0.0554, -0.5357]]) |\tb tensor([-0.1733])\n",
            "epoch 405, loss: 57.423622 |\tw tensor([[-0.1688,  0.1279,  0.0221,  0.1121,  0.2127,  0.0469,  0.1116,  0.0190,\n",
            "         -0.0300,  0.0092, -0.0550,  0.0483, -0.5392]]) |\tb tensor([-0.1731])\n",
            "epoch 410, loss: 57.801666 |\tw tensor([[-0.1684,  0.1282,  0.0211,  0.1123,  0.2128,  0.0495,  0.1115,  0.0194,\n",
            "         -0.0297,  0.0061, -0.0528,  0.0529, -0.5425]]) |\tb tensor([-0.1728])\n",
            "epoch 415, loss: 65.501762 |\tw tensor([[-0.1677,  0.1279,  0.0203,  0.1124,  0.2129,  0.0520,  0.1121,  0.0196,\n",
            "         -0.0289,  0.0139, -0.0506,  0.0506, -0.5455]]) |\tb tensor([-0.1726])\n",
            "epoch 420, loss: 57.663845 |\tw tensor([[-0.1673,  0.1278,  0.0192,  0.1125,  0.2129,  0.0546,  0.1114,  0.0199,\n",
            "         -0.0287,  0.0070, -0.0487,  0.0489, -0.5488]]) |\tb tensor([-0.1723])\n",
            "epoch 425, loss: 60.877659 |\tw tensor([[-0.1669,  0.1281,  0.0185,  0.1126,  0.2130,  0.0572,  0.1125,  0.0203,\n",
            "         -0.0283,  0.0116, -0.0464,  0.0506, -0.5515]]) |\tb tensor([-0.1721])\n",
            "epoch 430, loss: 70.990623 |\tw tensor([[-0.1668,  0.1281,  0.0173,  0.1128,  0.2131,  0.0596,  0.1117,  0.0205,\n",
            "         -0.0280,  0.0040, -0.0445,  0.0439, -0.5547]]) |\tb tensor([-0.1719])\n",
            "epoch 435, loss: 59.436474 |\tw tensor([[-0.1664,  0.1280,  0.0165,  0.1129,  0.2132,  0.0622,  0.1125,  0.0209,\n",
            "         -0.0276,  0.0054, -0.0422,  0.0480, -0.5576]]) |\tb tensor([-0.1716])\n",
            "epoch 440, loss: 63.623734 |\tw tensor([[-0.1657,  0.1272,  0.0157,  0.1130,  0.2133,  0.0648,  0.1139,  0.0211,\n",
            "         -0.0269,  0.0130, -0.0399,  0.0505, -0.5605]]) |\tb tensor([-0.1714])\n",
            "epoch 445, loss: 58.231884 |\tw tensor([[-0.1655,  0.1269,  0.0147,  0.1131,  0.2134,  0.0673,  0.1130,  0.0214,\n",
            "         -0.0267,  0.0061, -0.0379,  0.0479, -0.5636]]) |\tb tensor([-0.1711])\n",
            "epoch 450, loss: 60.456669 |\tw tensor([[-0.1650,  0.1266,  0.0139,  0.1133,  0.2135,  0.0698,  0.1134,  0.0217,\n",
            "         -0.0263,  0.0055, -0.0359,  0.0466, -0.5664]]) |\tb tensor([-0.1709])\n",
            "epoch 455, loss: 62.497795 |\tw tensor([[-0.1645,  0.1266,  0.0131,  0.1134,  0.2136,  0.0722,  0.1128,  0.0219,\n",
            "         -0.0258,  0.0058, -0.0339,  0.0449, -0.5692]]) |\tb tensor([-0.1707])\n",
            "epoch 460, loss: 57.476460 |\tw tensor([[-0.1642,  0.1264,  0.0124,  0.1135,  0.2137,  0.0747,  0.1134,  0.0222,\n",
            "         -0.0254,  0.0076, -0.0318,  0.0465, -0.5719]]) |\tb tensor([-0.1704])\n",
            "epoch 465, loss: 56.380337 |\tw tensor([[-0.1638,  0.1270,  0.0116,  0.1136,  0.2138,  0.0773,  0.1132,  0.0226,\n",
            "         -0.0252,  0.0079, -0.0295,  0.0502, -0.5746]]) |\tb tensor([-0.1702])\n",
            "epoch 470, loss: 60.800407 |\tw tensor([[-0.1634,  0.1262,  0.0108,  0.1138,  0.2139,  0.0797,  0.1131,  0.0228,\n",
            "         -0.0248,  0.0053, -0.0276,  0.0461, -0.5773]]) |\tb tensor([-0.1700])\n",
            "epoch 475, loss: 58.885201 |\tw tensor([[-0.1628,  0.1261,  0.0103,  0.1139,  0.2140,  0.0822,  0.1145,  0.0231,\n",
            "         -0.0245,  0.0093, -0.0252,  0.0518, -0.5797]]) |\tb tensor([-0.1697])\n",
            "epoch 480, loss: 70.584320 |\tw tensor([[-0.1624,  0.1256,  0.0097,  0.1140,  0.2141,  0.0848,  0.1154,  0.0234,\n",
            "         -0.0240,  0.0133, -0.0230,  0.0529, -0.5822]]) |\tb tensor([-0.1695])\n",
            "epoch 485, loss: 71.266739 |\tw tensor([[-0.1621,  0.1257,  0.0089,  0.1142,  0.2141,  0.0873,  0.1162,  0.0237,\n",
            "         -0.0239,  0.0125, -0.0210,  0.0539, -0.5849]]) |\tb tensor([-0.1692])\n",
            "epoch 490, loss: 56.733681 |\tw tensor([[-0.1617,  0.1250,  0.0080,  0.1143,  0.2142,  0.0897,  0.1152,  0.0239,\n",
            "         -0.0234,  0.0098, -0.0192,  0.0491, -0.5877]]) |\tb tensor([-0.1690])\n",
            "epoch 495, loss: 58.220898 |\tw tensor([[-0.1612,  0.1257,  0.0072,  0.1144,  0.2143,  0.0922,  0.1156,  0.0243,\n",
            "         -0.0232,  0.0095, -0.0171,  0.0510, -0.5903]]) |\tb tensor([-0.1688])\n",
            "epoch 500, loss: 60.505390 |\tw tensor([[-0.1608,  0.1260,  0.0063,  0.1145,  0.2144,  0.0947,  0.1149,  0.0246,\n",
            "         -0.0230,  0.0053, -0.0152,  0.0455, -0.5929]]) |\tb tensor([-0.1686])\n",
            "epoch 505, loss: 55.682564 |\tw tensor([[-0.1602,  0.1257,  0.0057,  0.1147,  0.2145,  0.0972,  0.1157,  0.0248,\n",
            "         -0.0225,  0.0097, -0.0131,  0.0474, -0.5955]]) |\tb tensor([-0.1683])\n",
            "epoch 510, loss: 67.823944 |\tw tensor([[-0.1598,  0.1258,  0.0050,  0.1148,  0.2146,  0.0996,  0.1150,  0.0251,\n",
            "         -0.0224,  0.0054, -0.0112,  0.0415, -0.5981]]) |\tb tensor([-0.1681])\n",
            "epoch 515, loss: 56.057190 |\tw tensor([[-0.1594,  0.1257,  0.0045,  0.1149,  0.2147,  0.1021,  0.1164,  0.0254,\n",
            "         -0.0221,  0.0099, -0.0089,  0.0481, -0.6004]]) |\tb tensor([-0.1678])\n",
            "epoch 520, loss: 55.411293 |\tw tensor([[-0.1590,  0.1247,  0.0039,  0.1151,  0.2148,  0.1045,  0.1166,  0.0256,\n",
            "         -0.0218,  0.0081, -0.0070,  0.0466, -0.6027]]) |\tb tensor([-0.1676])\n",
            "epoch 525, loss: 71.095818 |\tw tensor([[-0.1586,  0.1249,  0.0031,  0.1152,  0.2149,  0.1069,  0.1154,  0.0259,\n",
            "         -0.0217,  0.0031, -0.0051,  0.0428, -0.6052]]) |\tb tensor([-0.1674])\n",
            "epoch 530, loss: 57.521557 |\tw tensor([[-0.1582,  0.1251,  0.0025,  0.1153,  0.2150,  0.1094,  0.1162,  0.0262,\n",
            "         -0.0213,  0.0064, -0.0030,  0.0454, -0.6075]]) |\tb tensor([-0.1671])\n",
            "epoch 535, loss: 55.136551 |\tw tensor([[-0.1579,  0.1245,  0.0020,  0.1154,  0.2151,  0.1119,  0.1174,  0.0265,\n",
            "         -0.0211,  0.0065, -0.0008,  0.0492, -0.6098]]) |\tb tensor([-0.1669])\n",
            "epoch 540, loss: 69.159790 |\tw tensor([[-0.1574,  0.1244,  0.0015,  0.1156,  0.2152,  0.1144,  0.1190,  0.0267,\n",
            "         -0.0206,  0.0121,  0.0013,  0.0529, -0.6119]]) |\tb tensor([-0.1667])\n",
            "epoch 545, loss: 57.089844 |\tw tensor([[-0.1572,  0.1243,  0.0007,  0.1157,  0.2152,  0.1167,  0.1176,  0.0270,\n",
            "         -0.0205,  0.0067,  0.0031,  0.0448, -0.6144]]) |\tb tensor([-0.1664])\n",
            "epoch 550, loss: 67.522339 |\tw tensor([[-1.5648e-01,  1.2422e-01,  2.5948e-04,  1.1581e-01,  2.1534e-01,\n",
            "          1.1924e-01,  1.1870e-01,  2.7252e-02, -2.0024e-02,  1.2731e-02,\n",
            "          5.3338e-03,  5.1513e-02, -6.1652e-01]]) |\tb tensor([-0.1662])\n",
            "epoch 555, loss: 55.172821 |\tw tensor([[-1.5611e-01,  1.2322e-01, -3.7684e-04,  1.1594e-01,  2.1542e-01,\n",
            "          1.2156e-01,  1.1817e-01,  2.7411e-02, -1.9871e-02,  7.8203e-03,\n",
            "          7.0759e-03,  4.5469e-02, -6.1897e-01]]) |\tb tensor([-0.1660])\n",
            "epoch 560, loss: 55.294872 |\tw tensor([[-0.1560,  0.1236, -0.0010,  0.1161,  0.2155,  0.1241,  0.1189,  0.0277,\n",
            "         -0.0197,  0.0099,  0.0092,  0.0470, -0.6212]]) |\tb tensor([-0.1657])\n",
            "epoch 565, loss: 55.112068 |\tw tensor([[-0.1555,  0.1235, -0.0018,  0.1162,  0.2156,  0.1265,  0.1190,  0.0280,\n",
            "         -0.0196,  0.0059,  0.0112,  0.0475, -0.6235]]) |\tb tensor([-0.1655])\n",
            "epoch 570, loss: 55.454224 |\tw tensor([[-0.1552,  0.1234, -0.0022,  0.1163,  0.2157,  0.1289,  0.1192,  0.0282,\n",
            "         -0.0192,  0.0101,  0.0130,  0.0472, -0.6257]]) |\tb tensor([-0.1653])\n",
            "epoch 575, loss: 60.491325 |\tw tensor([[-0.1550,  0.1236, -0.0027,  0.1164,  0.2158,  0.1313,  0.1189,  0.0285,\n",
            "         -0.0189,  0.0116,  0.0151,  0.0495, -0.6277]]) |\tb tensor([-0.1650])\n",
            "epoch 580, loss: 54.407642 |\tw tensor([[-0.1548,  0.1229, -0.0033,  0.1166,  0.2159,  0.1337,  0.1189,  0.0286,\n",
            "         -0.0187,  0.0095,  0.0170,  0.0457, -0.6301]]) |\tb tensor([-0.1648])\n",
            "epoch 585, loss: 54.365448 |\tw tensor([[-0.1543,  0.1229, -0.0039,  0.1167,  0.2160,  0.1361,  0.1183,  0.0289,\n",
            "         -0.0184,  0.0092,  0.0189,  0.0448, -0.6323]]) |\tb tensor([-0.1646])\n",
            "epoch 590, loss: 56.015709 |\tw tensor([[-0.1536,  0.1223, -0.0044,  0.1168,  0.2161,  0.1385,  0.1194,  0.0291,\n",
            "         -0.0180,  0.0117,  0.0209,  0.0457, -0.6342]]) |\tb tensor([-0.1644])\n",
            "epoch 595, loss: 58.628239 |\tw tensor([[-0.1534,  0.1224, -0.0052,  0.1170,  0.2162,  0.1409,  0.1189,  0.0293,\n",
            "         -0.0180,  0.0050,  0.0227,  0.0443, -0.6366]]) |\tb tensor([-0.1641])\n",
            "epoch 600, loss: 57.268177 |\tw tensor([[-0.1529,  0.1219, -0.0056,  0.1171,  0.2162,  0.1432,  0.1195,  0.0295,\n",
            "         -0.0177,  0.0058,  0.0245,  0.0441, -0.6385]]) |\tb tensor([-0.1639])\n",
            "epoch 605, loss: 56.985981 |\tw tensor([[-0.1527,  0.1215, -0.0060,  0.1172,  0.2163,  0.1456,  0.1198,  0.0297,\n",
            "         -0.0174,  0.0067,  0.0264,  0.0430, -0.6404]]) |\tb tensor([-0.1637])\n",
            "epoch 610, loss: 54.046459 |\tw tensor([[-0.1522,  0.1222, -0.0066,  0.1173,  0.2164,  0.1480,  0.1205,  0.0300,\n",
            "         -0.0172,  0.0074,  0.0285,  0.0457, -0.6425]]) |\tb tensor([-0.1634])\n",
            "epoch 615, loss: 53.907997 |\tw tensor([[-0.1520,  0.1222, -0.0072,  0.1175,  0.2165,  0.1504,  0.1201,  0.0303,\n",
            "         -0.0170,  0.0070,  0.0304,  0.0477, -0.6445]]) |\tb tensor([-0.1632])\n",
            "epoch 620, loss: 67.681129 |\tw tensor([[-0.1516,  0.1218, -0.0074,  0.1176,  0.2166,  0.1529,  0.1212,  0.0306,\n",
            "         -0.0165,  0.0150,  0.0325,  0.0479, -0.6464]]) |\tb tensor([-0.1630])\n",
            "epoch 625, loss: 56.792122 |\tw tensor([[-0.1513,  0.1209, -0.0082,  0.1177,  0.2167,  0.1551,  0.1203,  0.0307,\n",
            "         -0.0163,  0.0058,  0.0341,  0.0437, -0.6485]]) |\tb tensor([-0.1628])\n",
            "epoch 630, loss: 55.862251 |\tw tensor([[-0.1508,  0.1208, -0.0085,  0.1178,  0.2168,  0.1575,  0.1212,  0.0310,\n",
            "         -0.0160,  0.0109,  0.0362,  0.0464, -0.6501]]) |\tb tensor([-0.1625])\n",
            "epoch 635, loss: 71.454323 |\tw tensor([[-0.1507,  0.1205, -0.0092,  0.1179,  0.2169,  0.1598,  0.1194,  0.0312,\n",
            "         -0.0161,  0.0025,  0.0378,  0.0407, -0.6524]]) |\tb tensor([-0.1623])\n",
            "epoch 640, loss: 53.527042 |\tw tensor([[-0.1500,  0.1205, -0.0096,  0.1181,  0.2170,  0.1622,  0.1203,  0.0315,\n",
            "         -0.0157,  0.0082,  0.0399,  0.0461, -0.6541]]) |\tb tensor([-0.1621])\n",
            "epoch 645, loss: 56.906643 |\tw tensor([[-0.1497,  0.1205, -0.0099,  0.1182,  0.2171,  0.1645,  0.1208,  0.0316,\n",
            "         -0.0153,  0.0123,  0.0417,  0.0456, -0.6559]]) |\tb tensor([-0.1618])\n",
            "epoch 650, loss: 56.542076 |\tw tensor([[-0.1494,  0.1205, -0.0102,  0.1183,  0.2172,  0.1669,  0.1212,  0.0319,\n",
            "         -0.0150,  0.0130,  0.0437,  0.0441, -0.6576]]) |\tb tensor([-0.1616])\n",
            "epoch 655, loss: 55.324169 |\tw tensor([[-0.1491,  0.1209, -0.0110,  0.1184,  0.2172,  0.1692,  0.1204,  0.0321,\n",
            "         -0.0152,  0.0047,  0.0454,  0.0458, -0.6594]]) |\tb tensor([-0.1614])\n",
            "epoch 660, loss: 55.199596 |\tw tensor([[-0.1488,  0.1208, -0.0114,  0.1186,  0.2173,  0.1715,  0.1210,  0.0323,\n",
            "         -0.0148,  0.0052,  0.0473,  0.0449, -0.6613]]) |\tb tensor([-0.1612])\n",
            "epoch 665, loss: 57.597206 |\tw tensor([[-0.1486,  0.1208, -0.0117,  0.1187,  0.2174,  0.1739,  0.1220,  0.0326,\n",
            "         -0.0144,  0.0103,  0.0494,  0.0483, -0.6629]]) |\tb tensor([-0.1609])\n",
            "epoch 670, loss: 62.974045 |\tw tensor([[-0.1482,  0.1208, -0.0121,  0.1188,  0.2175,  0.1762,  0.1229,  0.0327,\n",
            "         -0.0141,  0.0127,  0.0512,  0.0480, -0.6644]]) |\tb tensor([-0.1607])\n",
            "epoch 675, loss: 55.758087 |\tw tensor([[-0.1481,  0.1206, -0.0128,  0.1189,  0.2176,  0.1785,  0.1218,  0.0329,\n",
            "         -0.0142,  0.0048,  0.0528,  0.0443, -0.6665]]) |\tb tensor([-0.1605])\n",
            "epoch 680, loss: 55.054401 |\tw tensor([[-0.1477,  0.1203, -0.0131,  0.1190,  0.2177,  0.1808,  0.1222,  0.0331,\n",
            "         -0.0139,  0.0060,  0.0546,  0.0433, -0.6682]]) |\tb tensor([-0.1603])\n",
            "epoch 685, loss: 57.465549 |\tw tensor([[-0.1471,  0.1198, -0.0134,  0.1192,  0.2178,  0.1832,  0.1233,  0.0333,\n",
            "         -0.0135,  0.0106,  0.0565,  0.0475, -0.6697]]) |\tb tensor([-0.1600])\n",
            "epoch 690, loss: 69.251205 |\tw tensor([[-0.1467,  0.1199, -0.0137,  0.1193,  0.2179,  0.1855,  0.1235,  0.0335,\n",
            "         -0.0131,  0.0151,  0.0585,  0.0472, -0.6712]]) |\tb tensor([-0.1598])\n",
            "epoch 695, loss: 56.446102 |\tw tensor([[-0.1463,  0.1194, -0.0144,  0.1194,  0.2180,  0.1877,  0.1219,  0.0336,\n",
            "         -0.0132,  0.0057,  0.0600,  0.0421, -0.6732]]) |\tb tensor([-0.1596])\n",
            "epoch 700, loss: 58.301865 |\tw tensor([[-0.1459,  0.1190, -0.0147,  0.1195,  0.2181,  0.1900,  0.1225,  0.0338,\n",
            "         -0.0130,  0.0051,  0.0618,  0.0414, -0.6749]]) |\tb tensor([-0.1594])\n",
            "epoch 705, loss: 61.920135 |\tw tensor([[-0.1454,  0.1188, -0.0149,  0.1197,  0.2182,  0.1924,  0.1241,  0.0340,\n",
            "         -0.0126,  0.0123,  0.0638,  0.0475, -0.6762]]) |\tb tensor([-0.1591])\n",
            "epoch 710, loss: 56.099831 |\tw tensor([[-0.1450,  0.1186, -0.0153,  0.1198,  0.2182,  0.1947,  0.1237,  0.0342,\n",
            "         -0.0124,  0.0119,  0.0655,  0.0446, -0.6780]]) |\tb tensor([-0.1589])\n",
            "epoch 715, loss: 52.799953 |\tw tensor([[-0.1448,  0.1183, -0.0157,  0.1199,  0.2183,  0.1969,  0.1238,  0.0343,\n",
            "         -0.0123,  0.0095,  0.0673,  0.0426, -0.6797]]) |\tb tensor([-0.1587])\n",
            "epoch 720, loss: 52.592037 |\tw tensor([[-0.1445,  0.1187, -0.0160,  0.1201,  0.2184,  0.1992,  0.1237,  0.0346,\n",
            "         -0.0122,  0.0083,  0.0690,  0.0441, -0.6812]]) |\tb tensor([-0.1585])\n",
            "epoch 725, loss: 54.171265 |\tw tensor([[-0.1441,  0.1187, -0.0163,  0.1202,  0.2185,  0.2015,  0.1231,  0.0348,\n",
            "         -0.0118,  0.0111,  0.0708,  0.0437, -0.6828]]) |\tb tensor([-0.1583])\n",
            "epoch 730, loss: 58.941875 |\tw tensor([[-0.1435,  0.1188, -0.0169,  0.1203,  0.2186,  0.2037,  0.1225,  0.0350,\n",
            "         -0.0117,  0.0048,  0.0724,  0.0409, -0.6846]]) |\tb tensor([-0.1580])\n",
            "epoch 735, loss: 52.482418 |\tw tensor([[-0.1431,  0.1186, -0.0172,  0.1204,  0.2187,  0.2061,  0.1233,  0.0352,\n",
            "         -0.0114,  0.0088,  0.0743,  0.0429, -0.6859]]) |\tb tensor([-0.1578])\n",
            "epoch 740, loss: 52.941250 |\tw tensor([[-0.1429,  0.1186, -0.0174,  0.1206,  0.2188,  0.2084,  0.1239,  0.0354,\n",
            "         -0.0114,  0.0081,  0.0761,  0.0457, -0.6875]]) |\tb tensor([-0.1576])\n",
            "epoch 745, loss: 55.284336 |\tw tensor([[-0.1425,  0.1181, -0.0176,  0.1207,  0.2189,  0.2106,  0.1239,  0.0355,\n",
            "         -0.0110,  0.0108,  0.0778,  0.0450, -0.6890]]) |\tb tensor([-0.1574])\n",
            "epoch 750, loss: 52.669670 |\tw tensor([[-0.1419,  0.1190, -0.0181,  0.1208,  0.2190,  0.2129,  0.1236,  0.0358,\n",
            "         -0.0108,  0.0094,  0.0795,  0.0436, -0.6906]]) |\tb tensor([-0.1572])\n",
            "epoch 755, loss: 52.267086 |\tw tensor([[-0.1415,  0.1188, -0.0185,  0.1209,  0.2191,  0.2152,  0.1239,  0.0359,\n",
            "         -0.0107,  0.0069,  0.0813,  0.0440, -0.6921]]) |\tb tensor([-0.1569])\n",
            "epoch 760, loss: 52.299446 |\tw tensor([[-0.1410,  0.1189, -0.0189,  0.1211,  0.2191,  0.2174,  0.1239,  0.0361,\n",
            "         -0.0103,  0.0076,  0.0830,  0.0450, -0.6936]]) |\tb tensor([-0.1567])\n",
            "epoch 765, loss: 52.644615 |\tw tensor([[-0.1407,  0.1187, -0.0191,  0.1212,  0.2192,  0.2197,  0.1239,  0.0363,\n",
            "         -0.0103,  0.0058,  0.0847,  0.0440, -0.6950]]) |\tb tensor([-0.1565])\n",
            "epoch 770, loss: 53.666637 |\tw tensor([[-0.1404,  0.1187, -0.0193,  0.1213,  0.2193,  0.2219,  0.1244,  0.0364,\n",
            "         -0.0100,  0.0109,  0.0865,  0.0430, -0.6963]]) |\tb tensor([-0.1563])\n",
            "epoch 775, loss: 58.060135 |\tw tensor([[-0.1404,  0.1188, -0.0198,  0.1214,  0.2194,  0.2241,  0.1238,  0.0366,\n",
            "         -0.0101,  0.0023,  0.0879,  0.0432, -0.6981]]) |\tb tensor([-0.1561])\n",
            "epoch 780, loss: 52.195152 |\tw tensor([[-0.1400,  0.1182, -0.0199,  0.1216,  0.2195,  0.2264,  0.1244,  0.0367,\n",
            "         -0.0097,  0.0072,  0.0897,  0.0426, -0.6992]]) |\tb tensor([-0.1559])\n",
            "epoch 785, loss: 61.121853 |\tw tensor([[-0.1396,  0.1186, -0.0200,  0.1217,  0.2196,  0.2287,  0.1250,  0.0369,\n",
            "         -0.0094,  0.0133,  0.0915,  0.0448, -0.7003]]) |\tb tensor([-0.1556])\n",
            "epoch 790, loss: 54.903954 |\tw tensor([[-0.1392,  0.1185, -0.0204,  0.1218,  0.2197,  0.2309,  0.1248,  0.0371,\n",
            "         -0.0094,  0.0091,  0.0931,  0.0463, -0.7016]]) |\tb tensor([-0.1554])\n",
            "epoch 795, loss: 56.443871 |\tw tensor([[-0.1390,  0.1181, -0.0208,  0.1219,  0.2198,  0.2330,  0.1240,  0.0371,\n",
            "         -0.0092,  0.0051,  0.0945,  0.0403, -0.7033]]) |\tb tensor([-0.1552])\n",
            "epoch 800, loss: 55.932358 |\tw tensor([[-0.1388,  0.1182, -0.0207,  0.1220,  0.2199,  0.2353,  0.1248,  0.0373,\n",
            "         -0.0091,  0.0092,  0.0964,  0.0470, -0.7043]]) |\tb tensor([-0.1550])\n",
            "epoch 805, loss: 51.986557 |\tw tensor([[-0.1388,  0.1174, -0.0211,  0.1222,  0.2199,  0.2375,  0.1243,  0.0374,\n",
            "         -0.0090,  0.0053,  0.0979,  0.0447, -0.7059]]) |\tb tensor([-0.1548])\n",
            "epoch 810, loss: 54.793980 |\tw tensor([[-0.1383,  0.1170, -0.0213,  0.1223,  0.2200,  0.2397,  0.1237,  0.0375,\n",
            "         -0.0088,  0.0052,  0.0994,  0.0411, -0.7072]]) |\tb tensor([-0.1546])\n",
            "epoch 815, loss: 51.814186 |\tw tensor([[-0.1382,  0.1170, -0.0215,  0.1224,  0.2201,  0.2420,  0.1244,  0.0376,\n",
            "         -0.0086,  0.0055,  0.1012,  0.0445, -0.7083]]) |\tb tensor([-0.1543])\n",
            "epoch 820, loss: 51.723267 |\tw tensor([[-0.1379,  0.1173, -0.0218,  0.1225,  0.2202,  0.2442,  0.1241,  0.0378,\n",
            "         -0.0086,  0.0056,  0.1028,  0.0446, -0.7096]]) |\tb tensor([-0.1541])\n",
            "epoch 825, loss: 56.223919 |\tw tensor([[-0.1373,  0.1160, -0.0220,  0.1227,  0.2203,  0.2463,  0.1242,  0.0378,\n",
            "         -0.0081,  0.0064,  0.1043,  0.0383, -0.7109]]) |\tb tensor([-0.1539])\n",
            "epoch 830, loss: 53.103874 |\tw tensor([[-0.1374,  0.1160, -0.0223,  0.1228,  0.2204,  0.2486,  0.1242,  0.0380,\n",
            "         -0.0081,  0.0053,  0.1060,  0.0419, -0.7124]]) |\tb tensor([-0.1537])\n",
            "epoch 835, loss: 53.825554 |\tw tensor([[-0.1373,  0.1164, -0.0225,  0.1229,  0.2205,  0.2508,  0.1248,  0.0382,\n",
            "         -0.0081,  0.0074,  0.1078,  0.0471, -0.7133]]) |\tb tensor([-0.1535])\n",
            "epoch 840, loss: 81.432297 |\tw tensor([[-0.1369,  0.1161, -0.0225,  0.1230,  0.2206,  0.2530,  0.1260,  0.0383,\n",
            "         -0.0075,  0.0152,  0.1096,  0.0486, -0.7143]]) |\tb tensor([-0.1532])\n",
            "epoch 845, loss: 51.360294 |\tw tensor([[-0.1368,  0.1160, -0.0229,  0.1231,  0.2207,  0.2551,  0.1243,  0.0384,\n",
            "         -0.0076,  0.0077,  0.1109,  0.0427, -0.7155]]) |\tb tensor([-0.1530])\n",
            "epoch 850, loss: 55.718666 |\tw tensor([[-0.1365,  0.1161, -0.0231,  0.1233,  0.2208,  0.2574,  0.1246,  0.0386,\n",
            "         -0.0074,  0.0095,  0.1125,  0.0461, -0.7167]]) |\tb tensor([-0.1528])\n",
            "epoch 855, loss: 56.490971 |\tw tensor([[-0.1362,  0.1156, -0.0233,  0.1234,  0.2208,  0.2596,  0.1248,  0.0387,\n",
            "         -0.0072,  0.0099,  0.1141,  0.0460, -0.7180]]) |\tb tensor([-0.1526])\n",
            "epoch 860, loss: 56.993694 |\tw tensor([[-0.1359,  0.1161, -0.0235,  0.1235,  0.2209,  0.2618,  0.1244,  0.0388,\n",
            "         -0.0072,  0.0090,  0.1157,  0.0474, -0.7191]]) |\tb tensor([-0.1524])\n",
            "epoch 865, loss: 61.942070 |\tw tensor([[-0.1357,  0.1160, -0.0239,  0.1236,  0.2210,  0.2638,  0.1235,  0.0389,\n",
            "         -0.0071,  0.0033,  0.1168,  0.0384, -0.7205]]) |\tb tensor([-0.1522])\n",
            "epoch 870, loss: 51.607040 |\tw tensor([[-0.1354,  0.1156, -0.0239,  0.1238,  0.2211,  0.2660,  0.1248,  0.0390,\n",
            "         -0.0069,  0.0062,  0.1186,  0.0419, -0.7216]]) |\tb tensor([-0.1520])\n",
            "epoch 875, loss: 53.938148 |\tw tensor([[-0.1352,  0.1155, -0.0241,  0.1239,  0.2212,  0.2682,  0.1249,  0.0391,\n",
            "         -0.0069,  0.0035,  0.1201,  0.0423, -0.7226]]) |\tb tensor([-0.1518])\n",
            "epoch 880, loss: 53.081585 |\tw tensor([[-0.1346,  0.1155, -0.0244,  0.1240,  0.2213,  0.2704,  0.1250,  0.0393,\n",
            "         -0.0066,  0.0051,  0.1217,  0.0409, -0.7235]]) |\tb tensor([-0.1516])\n",
            "epoch 885, loss: 51.143951 |\tw tensor([[-0.1343,  0.1151, -0.0244,  0.1241,  0.2214,  0.2726,  0.1262,  0.0394,\n",
            "         -0.0064,  0.0080,  0.1234,  0.0420, -0.7245]]) |\tb tensor([-0.1513])\n",
            "epoch 890, loss: 55.482826 |\tw tensor([[-0.1342,  0.1156, -0.0245,  0.1242,  0.2215,  0.2748,  0.1261,  0.0396,\n",
            "         -0.0063,  0.0083,  0.1251,  0.0466, -0.7255]]) |\tb tensor([-0.1511])\n",
            "epoch 895, loss: 51.328163 |\tw tensor([[-0.1339,  0.1155, -0.0248,  0.1244,  0.2216,  0.2769,  0.1260,  0.0397,\n",
            "         -0.0062,  0.0084,  0.1266,  0.0421, -0.7265]]) |\tb tensor([-0.1509])\n",
            "epoch 900, loss: 52.688984 |\tw tensor([[-0.1334,  0.1155, -0.0249,  0.1245,  0.2216,  0.2790,  0.1260,  0.0398,\n",
            "         -0.0060,  0.0103,  0.1282,  0.0417, -0.7275]]) |\tb tensor([-0.1507])\n",
            "epoch 905, loss: 71.850464 |\tw tensor([[-0.1331,  0.1156, -0.0250,  0.1246,  0.2217,  0.2813,  0.1268,  0.0400,\n",
            "         -0.0059,  0.0133,  0.1300,  0.0471, -0.7285]]) |\tb tensor([-0.1505])\n",
            "epoch 910, loss: 65.725105 |\tw tensor([[-0.1330,  0.1150, -0.0253,  0.1247,  0.2218,  0.2833,  0.1251,  0.0400,\n",
            "         -0.0060,  0.0016,  0.1310,  0.0377, -0.7300]]) |\tb tensor([-0.1503])\n",
            "epoch 915, loss: 53.175323 |\tw tensor([[-0.1327,  0.1154, -0.0252,  0.1249,  0.2219,  0.2855,  0.1257,  0.0402,\n",
            "         -0.0057,  0.0098,  0.1328,  0.0429, -0.7309]]) |\tb tensor([-0.1501])\n",
            "epoch 920, loss: 51.524597 |\tw tensor([[-0.1324,  0.1153, -0.0254,  0.1250,  0.2220,  0.2877,  0.1256,  0.0403,\n",
            "         -0.0059,  0.0039,  0.1342,  0.0434, -0.7319]]) |\tb tensor([-0.1499])\n",
            "epoch 925, loss: 50.850708 |\tw tensor([[-0.1321,  0.1151, -0.0257,  0.1251,  0.2221,  0.2898,  0.1257,  0.0404,\n",
            "         -0.0056,  0.0058,  0.1358,  0.0440, -0.7328]]) |\tb tensor([-0.1497])\n",
            "epoch 930, loss: 52.379379 |\tw tensor([[-0.1321,  0.1151, -0.0259,  0.1252,  0.2222,  0.2920,  0.1255,  0.0406,\n",
            "         -0.0053,  0.0095,  0.1374,  0.0423, -0.7338]]) |\tb tensor([-0.1494])\n",
            "epoch 935, loss: 69.238083 |\tw tensor([[-0.1319,  0.1149, -0.0258,  0.1254,  0.2223,  0.2942,  0.1266,  0.0407,\n",
            "         -0.0052,  0.0116,  0.1391,  0.0480, -0.7347]]) |\tb tensor([-0.1492])\n",
            "epoch 940, loss: 53.744301 |\tw tensor([[-0.1314,  0.1144, -0.0260,  0.1255,  0.2223,  0.2962,  0.1257,  0.0408,\n",
            "         -0.0050,  0.0098,  0.1404,  0.0431, -0.7357]]) |\tb tensor([-0.1490])\n",
            "epoch 945, loss: 64.586449 |\tw tensor([[-0.1311,  0.1140, -0.0261,  0.1256,  0.2224,  0.2984,  0.1258,  0.0408,\n",
            "         -0.0048,  0.0136,  0.1420,  0.0439, -0.7366]]) |\tb tensor([-0.1488])\n",
            "epoch 950, loss: 55.699413 |\tw tensor([[-0.1311,  0.1138, -0.0263,  0.1257,  0.2225,  0.3005,  0.1263,  0.0409,\n",
            "         -0.0049,  0.0097,  0.1434,  0.0444, -0.7376]]) |\tb tensor([-0.1486])\n",
            "epoch 955, loss: 50.464413 |\tw tensor([[-0.1308,  0.1140, -0.0266,  0.1258,  0.2226,  0.3026,  0.1252,  0.0410,\n",
            "         -0.0049,  0.0065,  0.1447,  0.0416, -0.7388]]) |\tb tensor([-0.1484])\n",
            "epoch 960, loss: 53.950977 |\tw tensor([[-0.1303,  0.1141, -0.0265,  0.1260,  0.2227,  0.3047,  0.1259,  0.0411,\n",
            "         -0.0047,  0.0099,  0.1463,  0.0429, -0.7396]]) |\tb tensor([-0.1482])\n",
            "epoch 965, loss: 50.579922 |\tw tensor([[-0.1300,  0.1144, -0.0268,  0.1261,  0.2228,  0.3068,  0.1257,  0.0412,\n",
            "         -0.0046,  0.0056,  0.1476,  0.0437, -0.7407]]) |\tb tensor([-0.1480])\n",
            "epoch 970, loss: 54.807335 |\tw tensor([[-0.1295,  0.1141, -0.0267,  0.1262,  0.2229,  0.3090,  0.1260,  0.0413,\n",
            "         -0.0043,  0.0098,  0.1491,  0.0435, -0.7415]]) |\tb tensor([-0.1478])\n",
            "epoch 975, loss: 50.432095 |\tw tensor([[-0.1294,  0.1133, -0.0269,  0.1263,  0.2230,  0.3110,  0.1258,  0.0413,\n",
            "         -0.0043,  0.0066,  0.1504,  0.0404, -0.7426]]) |\tb tensor([-0.1476])\n",
            "epoch 980, loss: 50.518814 |\tw tensor([[-0.1291,  0.1129, -0.0271,  0.1265,  0.2230,  0.3132,  0.1265,  0.0414,\n",
            "         -0.0041,  0.0065,  0.1518,  0.0400, -0.7435]]) |\tb tensor([-0.1474])\n",
            "epoch 985, loss: 52.988205 |\tw tensor([[-0.1290,  0.1130, -0.0274,  0.1266,  0.2231,  0.3153,  0.1260,  0.0415,\n",
            "         -0.0043,  0.0015,  0.1532,  0.0431, -0.7447]]) |\tb tensor([-0.1472])\n",
            "epoch 990, loss: 54.400845 |\tw tensor([[-0.1287,  0.1128, -0.0273,  0.1267,  0.2232,  0.3174,  0.1268,  0.0415,\n",
            "         -0.0038,  0.0097,  0.1547,  0.0430, -0.7454]]) |\tb tensor([-0.1470])\n",
            "epoch 995, loss: 58.744217 |\tw tensor([[-0.1283,  0.1132, -0.0274,  0.1268,  0.2233,  0.3196,  0.1270,  0.0417,\n",
            "         -0.0038,  0.0100,  0.1563,  0.0450, -0.7461]]) |\tb tensor([-0.1468])\n",
            "epoch 1000, loss: 50.283058 |\tw tensor([[-0.1280,  0.1135, -0.0277,  0.1270,  0.2234,  0.3216,  0.1258,  0.0418,\n",
            "         -0.0039,  0.0061,  0.1576,  0.0427, -0.7472]]) |\tb tensor([-0.1466])\n"
          ]
        }
      ]
    },
    {
      "cell_type": "code",
      "source": [
        "model(x_test_tensor)-y_test_tensor"
      ],
      "metadata": {
        "colab": {
          "base_uri": "https://localhost:8080/"
        },
        "id": "dDnTCYetj7sD",
        "outputId": "6246c95a-e18f-46a2-dbd6-3c61ff71b0b6"
      },
      "execution_count": null,
      "outputs": [
        {
          "output_type": "execute_result",
          "data": {
            "text/plain": [
              "tensor([[  6.0600,   6.5600,  -1.5400,  ...,  -7.9400,  10.8600, -10.9400],\n",
              "        [ -6.1418,  -5.6418, -13.7418,  ..., -20.1418,  -1.3418, -23.1418],\n",
              "        [  2.9347,   3.4347,  -4.6653,  ..., -11.0653,   7.7347, -14.0653],\n",
              "        ...,\n",
              "        [  9.4813,   9.9813,   1.8813,  ...,  -4.5187,  14.2813,  -7.5187],\n",
              "        [ -2.9451,  -2.4451, -10.5451,  ..., -16.9451,   1.8549, -19.9451],\n",
              "        [ 14.0735,  14.5735,   6.4735,  ...,   0.0735,  18.8735,  -2.9265]],\n",
              "       grad_fn=<SubBackward0>)"
            ]
          },
          "metadata": {},
          "execution_count": 317
        }
      ]
    }
  ]
}